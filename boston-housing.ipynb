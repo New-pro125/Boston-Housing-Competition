{
 "cells": [
  {
   "cell_type": "code",
   "execution_count": null,
   "metadata": {
    "execution": {
     "iopub.execute_input": "2023-10-29T14:25:09.517732Z",
     "iopub.status.busy": "2023-10-29T14:25:09.517098Z",
     "iopub.status.idle": "2023-10-29T14:25:13.737737Z",
     "shell.execute_reply": "2023-10-29T14:25:13.736485Z",
     "shell.execute_reply.started": "2023-10-29T14:25:09.517701Z"
    },
    "trusted": true
   },
   "outputs": [],
   "source": [
    "import pandas as pd\n",
    "import numpy as np\n",
    "from scipy import stats\n",
    "from sklearn.metrics import root_mean_squared_error\n",
    "\n",
    "import matplotlib.pyplot as plt\n",
    "import seaborn as sns\n",
    "\n",
    "from sklearn.model_selection import train_test_split, GridSearchCV, cross_val_score\n",
    "from sklearn.compose import make_column_transformer, ColumnTransformer\n",
    "from sklearn.pipeline import Pipeline, make_pipeline\n",
    "from sklearn.impute import SimpleImputer\n",
    "from sklearn.preprocessing import OrdinalEncoder, StandardScaler, OneHotEncoder\n",
    "\n",
    "from sklearn.linear_model import LinearRegression, Ridge\n",
    "from sklearn.ensemble import (\n",
    "    RandomForestRegressor,\n",
    "    GradientBoostingRegressor,\n",
    "    VotingRegressor,\n",
    "    StackingRegressor,\n",
    ")\n",
    "from xgboost import XGBRegressor\n",
    "from catboost import CatBoostRegressor\n",
    "import lightgbm as lgb"
   ]
  },
  {
   "cell_type": "code",
   "execution_count": null,
   "metadata": {
    "execution": {
     "iopub.execute_input": "2023-10-29T14:25:13.74Z",
     "iopub.status.busy": "2023-10-29T14:25:13.739509Z",
     "iopub.status.idle": "2023-10-29T14:25:13.819662Z",
     "shell.execute_reply": "2023-10-29T14:25:13.81813Z",
     "shell.execute_reply.started": "2023-10-29T14:25:13.739973Z"
    },
    "trusted": true
   },
   "outputs": [],
   "source": [
    "train_df = pd.read_csv(\"./train.csv\")\n",
    "test_df = pd.read_csv(\"./test.csv\")"
   ]
  },
  {
   "cell_type": "code",
   "execution_count": null,
   "metadata": {
    "execution": {
     "iopub.execute_input": "2023-10-29T14:25:13.821291Z",
     "iopub.status.busy": "2023-10-29T14:25:13.820929Z",
     "iopub.status.idle": "2023-10-29T14:25:13.82872Z",
     "shell.execute_reply": "2023-10-29T14:25:13.82768Z",
     "shell.execute_reply.started": "2023-10-29T14:25:13.821266Z"
    },
    "trusted": true
   },
   "outputs": [],
   "source": [
    "train_df.columns"
   ]
  },
  {
   "cell_type": "code",
   "execution_count": null,
   "metadata": {
    "execution": {
     "iopub.execute_input": "2023-10-29T14:25:13.831384Z",
     "iopub.status.busy": "2023-10-29T14:25:13.830877Z",
     "iopub.status.idle": "2023-10-29T14:25:13.927155Z",
     "shell.execute_reply": "2023-10-29T14:25:13.925781Z",
     "shell.execute_reply.started": "2023-10-29T14:25:13.83136Z"
    },
    "trusted": true
   },
   "outputs": [],
   "source": [
    "train_df.describe()"
   ]
  },
  {
   "cell_type": "code",
   "execution_count": null,
   "metadata": {
    "execution": {
     "iopub.execute_input": "2023-10-29T14:25:13.928764Z",
     "iopub.status.busy": "2023-10-29T14:25:13.928458Z",
     "iopub.status.idle": "2023-10-29T14:25:13.937786Z",
     "shell.execute_reply": "2023-10-29T14:25:13.936435Z",
     "shell.execute_reply.started": "2023-10-29T14:25:13.928737Z"
    },
    "trusted": true
   },
   "outputs": [],
   "source": [
    "train_df.dtypes[train_df.dtypes != \"object\"]"
   ]
  },
  {
   "cell_type": "code",
   "execution_count": null,
   "metadata": {
    "execution": {
     "iopub.execute_input": "2023-10-29T14:25:13.939755Z",
     "iopub.status.busy": "2023-10-29T14:25:13.939151Z",
     "iopub.status.idle": "2023-10-29T14:25:14.259556Z",
     "shell.execute_reply": "2023-10-29T14:25:14.258136Z",
     "shell.execute_reply.started": "2023-10-29T14:25:13.939726Z"
    },
    "trusted": true
   },
   "outputs": [],
   "source": [
    "plt.scatter(x=\"MSSubClass\", y=\"SalePrice\", data=train_df)"
   ]
  },
  {
   "cell_type": "code",
   "execution_count": null,
   "metadata": {
    "execution": {
     "iopub.execute_input": "2023-10-29T14:25:14.261576Z",
     "iopub.status.busy": "2023-10-29T14:25:14.261189Z",
     "iopub.status.idle": "2023-10-29T14:25:14.468134Z",
     "shell.execute_reply": "2023-10-29T14:25:14.466743Z",
     "shell.execute_reply.started": "2023-10-29T14:25:14.261542Z"
    },
    "trusted": true
   },
   "outputs": [],
   "source": [
    "plt.scatter(x=\"LotFrontage\", y=\"SalePrice\", data=train_df)"
   ]
  },
  {
   "cell_type": "code",
   "execution_count": null,
   "metadata": {
    "execution": {
     "iopub.execute_input": "2023-10-29T14:25:14.470473Z",
     "iopub.status.busy": "2023-10-29T14:25:14.470057Z",
     "iopub.status.idle": "2023-10-29T14:25:14.506249Z",
     "shell.execute_reply": "2023-10-29T14:25:14.504998Z",
     "shell.execute_reply.started": "2023-10-29T14:25:14.470436Z"
    },
    "trusted": true
   },
   "outputs": [],
   "source": [
    "train_df.query(\"LotFrontage > 300\")\n",
    "# Drop 935, 1299"
   ]
  },
  {
   "cell_type": "code",
   "execution_count": null,
   "metadata": {
    "execution": {
     "iopub.execute_input": "2023-10-29T14:25:14.507854Z",
     "iopub.status.busy": "2023-10-29T14:25:14.507554Z",
     "iopub.status.idle": "2023-10-29T14:25:14.7231Z",
     "shell.execute_reply": "2023-10-29T14:25:14.72212Z",
     "shell.execute_reply.started": "2023-10-29T14:25:14.507826Z"
    },
    "trusted": true
   },
   "outputs": [],
   "source": [
    "plt.scatter(x=\"LotArea\", y=\"SalePrice\", data=train_df)"
   ]
  },
  {
   "cell_type": "code",
   "execution_count": null,
   "metadata": {
    "execution": {
     "iopub.execute_input": "2023-10-29T14:25:14.727921Z",
     "iopub.status.busy": "2023-10-29T14:25:14.727025Z",
     "iopub.status.idle": "2023-10-29T14:25:14.750459Z",
     "shell.execute_reply": "2023-10-29T14:25:14.749377Z",
     "shell.execute_reply.started": "2023-10-29T14:25:14.727885Z"
    },
    "trusted": true
   },
   "outputs": [],
   "source": [
    "train_df.query(\"LotArea > 55000\")\n",
    "# 250, 314, 336, 707\n",
    "# maybe 1397"
   ]
  },
  {
   "cell_type": "code",
   "execution_count": null,
   "metadata": {
    "execution": {
     "iopub.execute_input": "2023-10-29T14:25:14.752224Z",
     "iopub.status.busy": "2023-10-29T14:25:14.751823Z",
     "iopub.status.idle": "2023-10-29T14:25:14.764576Z",
     "shell.execute_reply": "2023-10-29T14:25:14.763009Z",
     "shell.execute_reply.started": "2023-10-29T14:25:14.752189Z"
    },
    "trusted": true
   },
   "outputs": [],
   "source": [
    "stats.zscore(train_df[\"LotArea\"]).sort_values().tail(10)"
   ]
  },
  {
   "cell_type": "code",
   "execution_count": null,
   "metadata": {
    "execution": {
     "iopub.execute_input": "2023-10-29T14:25:14.766464Z",
     "iopub.status.busy": "2023-10-29T14:25:14.766118Z",
     "iopub.status.idle": "2023-10-29T14:25:14.977343Z",
     "shell.execute_reply": "2023-10-29T14:25:14.976043Z",
     "shell.execute_reply.started": "2023-10-29T14:25:14.766433Z"
    },
    "trusted": true
   },
   "outputs": [],
   "source": [
    "plt.scatter(x=\"OverallQual\", y=\"SalePrice\", data=train_df)"
   ]
  },
  {
   "cell_type": "code",
   "execution_count": null,
   "metadata": {
    "execution": {
     "iopub.execute_input": "2023-10-29T14:25:14.981705Z",
     "iopub.status.busy": "2023-10-29T14:25:14.978582Z",
     "iopub.status.idle": "2023-10-29T14:25:15.014156Z",
     "shell.execute_reply": "2023-10-29T14:25:15.012046Z",
     "shell.execute_reply.started": "2023-10-29T14:25:14.981657Z"
    },
    "trusted": true
   },
   "outputs": [],
   "source": [
    "train_df.query(\"OverallQual == 10\")\n",
    "# maybe 524"
   ]
  },
  {
   "cell_type": "code",
   "execution_count": null,
   "metadata": {
    "execution": {
     "iopub.execute_input": "2023-10-29T14:25:15.015713Z",
     "iopub.status.busy": "2023-10-29T14:25:15.015393Z",
     "iopub.status.idle": "2023-10-29T14:25:15.260876Z",
     "shell.execute_reply": "2023-10-29T14:25:15.259461Z",
     "shell.execute_reply.started": "2023-10-29T14:25:15.015686Z"
    },
    "trusted": true
   },
   "outputs": [],
   "source": [
    "plt.scatter(x=\"OverallCond\", y=\"SalePrice\", data=train_df)"
   ]
  },
  {
   "cell_type": "code",
   "execution_count": null,
   "metadata": {
    "execution": {
     "iopub.execute_input": "2023-10-29T14:25:15.262498Z",
     "iopub.status.busy": "2023-10-29T14:25:15.262154Z",
     "iopub.status.idle": "2023-10-29T14:25:15.288782Z",
     "shell.execute_reply": "2023-10-29T14:25:15.287353Z",
     "shell.execute_reply.started": "2023-10-29T14:25:15.262467Z"
    },
    "trusted": true
   },
   "outputs": [],
   "source": [
    "train_df.query(\"OverallCond == 2\")\n",
    "# 379"
   ]
  },
  {
   "cell_type": "code",
   "execution_count": null,
   "metadata": {
    "execution": {
     "iopub.execute_input": "2023-10-29T14:25:15.291644Z",
     "iopub.status.busy": "2023-10-29T14:25:15.291234Z",
     "iopub.status.idle": "2023-10-29T14:25:15.318196Z",
     "shell.execute_reply": "2023-10-29T14:25:15.317364Z",
     "shell.execute_reply.started": "2023-10-29T14:25:15.291614Z"
    },
    "trusted": true
   },
   "outputs": [],
   "source": [
    "train_df.query(\"OverallCond == 5 & SalePrice > 700000\")\n",
    "# 1183"
   ]
  },
  {
   "cell_type": "code",
   "execution_count": null,
   "metadata": {
    "execution": {
     "iopub.execute_input": "2023-10-29T14:25:15.320065Z",
     "iopub.status.busy": "2023-10-29T14:25:15.31928Z",
     "iopub.status.idle": "2023-10-29T14:25:15.346422Z",
     "shell.execute_reply": "2023-10-29T14:25:15.345461Z",
     "shell.execute_reply.started": "2023-10-29T14:25:15.320036Z"
    },
    "trusted": true
   },
   "outputs": [],
   "source": [
    "train_df.query(\"OverallCond == 6 & SalePrice > 700000\")\n",
    "# 692"
   ]
  },
  {
   "cell_type": "code",
   "execution_count": null,
   "metadata": {
    "execution": {
     "iopub.execute_input": "2023-10-29T14:25:15.347941Z",
     "iopub.status.busy": "2023-10-29T14:25:15.347703Z",
     "iopub.status.idle": "2023-10-29T14:25:15.569357Z",
     "shell.execute_reply": "2023-10-29T14:25:15.568046Z",
     "shell.execute_reply.started": "2023-10-29T14:25:15.34792Z"
    },
    "trusted": true
   },
   "outputs": [],
   "source": [
    "plt.scatter(x=\"YearBuilt\", y=\"SalePrice\", data=train_df)"
   ]
  },
  {
   "cell_type": "code",
   "execution_count": null,
   "metadata": {
    "execution": {
     "iopub.execute_input": "2023-10-29T14:25:15.571541Z",
     "iopub.status.busy": "2023-10-29T14:25:15.571157Z",
     "iopub.status.idle": "2023-10-29T14:25:15.59329Z",
     "shell.execute_reply": "2023-10-29T14:25:15.592152Z",
     "shell.execute_reply.started": "2023-10-29T14:25:15.571507Z"
    },
    "trusted": true
   },
   "outputs": [],
   "source": [
    "train_df.query(\"YearBuilt < 1900 & SalePrice > 400000\")\n",
    "# 186"
   ]
  },
  {
   "cell_type": "code",
   "execution_count": null,
   "metadata": {
    "execution": {
     "iopub.execute_input": "2023-10-29T14:25:15.594988Z",
     "iopub.status.busy": "2023-10-29T14:25:15.594707Z",
     "iopub.status.idle": "2023-10-29T14:25:15.820766Z",
     "shell.execute_reply": "2023-10-29T14:25:15.819358Z",
     "shell.execute_reply.started": "2023-10-29T14:25:15.594964Z"
    },
    "trusted": true
   },
   "outputs": [],
   "source": [
    "plt.scatter(x=\"YearRemodAdd\", y=\"SalePrice\", data=train_df)"
   ]
  },
  {
   "cell_type": "code",
   "execution_count": null,
   "metadata": {
    "execution": {
     "iopub.execute_input": "2023-10-29T14:25:15.822178Z",
     "iopub.status.busy": "2023-10-29T14:25:15.821853Z",
     "iopub.status.idle": "2023-10-29T14:25:15.841832Z",
     "shell.execute_reply": "2023-10-29T14:25:15.841151Z",
     "shell.execute_reply.started": "2023-10-29T14:25:15.82215Z"
    },
    "trusted": true
   },
   "outputs": [],
   "source": [
    "train_df.query(\"YearRemodAdd < 1970 & SalePrice > 300000\")\n",
    "# 314"
   ]
  },
  {
   "cell_type": "code",
   "execution_count": null,
   "metadata": {
    "execution": {
     "iopub.execute_input": "2023-10-29T14:25:15.843321Z",
     "iopub.status.busy": "2023-10-29T14:25:15.843029Z",
     "iopub.status.idle": "2023-10-29T14:25:16.060808Z",
     "shell.execute_reply": "2023-10-29T14:25:16.059594Z",
     "shell.execute_reply.started": "2023-10-29T14:25:15.843295Z"
    },
    "trusted": true
   },
   "outputs": [],
   "source": [
    "plt.scatter(x=\"MasVnrArea\", y=\"SalePrice\", data=train_df)"
   ]
  },
  {
   "cell_type": "code",
   "execution_count": null,
   "metadata": {
    "execution": {
     "iopub.execute_input": "2023-10-29T14:25:16.064239Z",
     "iopub.status.busy": "2023-10-29T14:25:16.063817Z",
     "iopub.status.idle": "2023-10-29T14:25:16.085619Z",
     "shell.execute_reply": "2023-10-29T14:25:16.084109Z",
     "shell.execute_reply.started": "2023-10-29T14:25:16.064207Z"
    },
    "trusted": true
   },
   "outputs": [],
   "source": [
    "train_df.query(\"MasVnrArea > 1500\")\n",
    "# 298"
   ]
  },
  {
   "cell_type": "code",
   "execution_count": null,
   "metadata": {
    "execution": {
     "iopub.execute_input": "2023-10-29T14:25:16.087219Z",
     "iopub.status.busy": "2023-10-29T14:25:16.086894Z",
     "iopub.status.idle": "2023-10-29T14:25:16.292309Z",
     "shell.execute_reply": "2023-10-29T14:25:16.29094Z",
     "shell.execute_reply.started": "2023-10-29T14:25:16.087193Z"
    },
    "trusted": true
   },
   "outputs": [],
   "source": [
    "plt.scatter(x=\"BsmtFinSF1\", y=\"SalePrice\", data=train_df)"
   ]
  },
  {
   "cell_type": "code",
   "execution_count": null,
   "metadata": {
    "execution": {
     "iopub.execute_input": "2023-10-29T14:25:16.294441Z",
     "iopub.status.busy": "2023-10-29T14:25:16.29354Z",
     "iopub.status.idle": "2023-10-29T14:25:16.319289Z",
     "shell.execute_reply": "2023-10-29T14:25:16.317773Z",
     "shell.execute_reply.started": "2023-10-29T14:25:16.29441Z"
    },
    "trusted": true
   },
   "outputs": [],
   "source": [
    "train_df.query(\"BsmtFinSF1 > 5000\")\n",
    "# 1299"
   ]
  },
  {
   "cell_type": "code",
   "execution_count": null,
   "metadata": {
    "execution": {
     "iopub.execute_input": "2023-10-29T14:25:16.327558Z",
     "iopub.status.busy": "2023-10-29T14:25:16.321128Z",
     "iopub.status.idle": "2023-10-29T14:25:16.669746Z",
     "shell.execute_reply": "2023-10-29T14:25:16.668111Z",
     "shell.execute_reply.started": "2023-10-29T14:25:16.327515Z"
    },
    "trusted": true
   },
   "outputs": [],
   "source": [
    "plt.scatter(x=\"BsmtFinSF2\", y=\"SalePrice\", data=train_df)"
   ]
  },
  {
   "cell_type": "code",
   "execution_count": null,
   "metadata": {
    "execution": {
     "iopub.execute_input": "2023-10-29T14:25:16.671758Z",
     "iopub.status.busy": "2023-10-29T14:25:16.671426Z",
     "iopub.status.idle": "2023-10-29T14:25:16.694729Z",
     "shell.execute_reply": "2023-10-29T14:25:16.693321Z",
     "shell.execute_reply.started": "2023-10-29T14:25:16.671732Z"
    },
    "trusted": true
   },
   "outputs": [],
   "source": [
    "train_df.query(\"BsmtFinSF2 > 400 & SalePrice > 500000\")\n",
    "# 441"
   ]
  },
  {
   "cell_type": "code",
   "execution_count": null,
   "metadata": {
    "execution": {
     "iopub.execute_input": "2023-10-29T14:25:16.703763Z",
     "iopub.status.busy": "2023-10-29T14:25:16.703397Z",
     "iopub.status.idle": "2023-10-29T14:25:16.915614Z",
     "shell.execute_reply": "2023-10-29T14:25:16.914757Z",
     "shell.execute_reply.started": "2023-10-29T14:25:16.703736Z"
    },
    "trusted": true
   },
   "outputs": [],
   "source": [
    "plt.scatter(x=\"BsmtUnfSF\", y=\"SalePrice\", data=train_df)"
   ]
  },
  {
   "cell_type": "code",
   "execution_count": null,
   "metadata": {
    "execution": {
     "iopub.execute_input": "2023-10-29T14:25:16.916985Z",
     "iopub.status.busy": "2023-10-29T14:25:16.916741Z",
     "iopub.status.idle": "2023-10-29T14:25:17.127193Z",
     "shell.execute_reply": "2023-10-29T14:25:17.126263Z",
     "shell.execute_reply.started": "2023-10-29T14:25:16.916963Z"
    },
    "trusted": true
   },
   "outputs": [],
   "source": [
    "plt.scatter(x=\"TotalBsmtSF\", y=\"SalePrice\", data=train_df)"
   ]
  },
  {
   "cell_type": "code",
   "execution_count": null,
   "metadata": {
    "execution": {
     "iopub.execute_input": "2023-10-29T14:25:17.12931Z",
     "iopub.status.busy": "2023-10-29T14:25:17.128408Z",
     "iopub.status.idle": "2023-10-29T14:25:17.149703Z",
     "shell.execute_reply": "2023-10-29T14:25:17.148586Z",
     "shell.execute_reply.started": "2023-10-29T14:25:17.129272Z"
    },
    "trusted": true
   },
   "outputs": [],
   "source": [
    "train_df.query(\"TotalBsmtSF > 5000\")\n",
    "# 1299"
   ]
  },
  {
   "cell_type": "code",
   "execution_count": null,
   "metadata": {
    "execution": {
     "iopub.execute_input": "2023-10-29T14:25:17.151963Z",
     "iopub.status.busy": "2023-10-29T14:25:17.151658Z",
     "iopub.status.idle": "2023-10-29T14:25:17.355618Z",
     "shell.execute_reply": "2023-10-29T14:25:17.35437Z",
     "shell.execute_reply.started": "2023-10-29T14:25:17.15194Z"
    },
    "trusted": true
   },
   "outputs": [],
   "source": [
    "plt.scatter(x=\"1stFlrSF\", y=\"SalePrice\", data=train_df)"
   ]
  },
  {
   "cell_type": "code",
   "execution_count": null,
   "metadata": {
    "execution": {
     "iopub.execute_input": "2023-10-29T14:25:17.357448Z",
     "iopub.status.busy": "2023-10-29T14:25:17.357143Z",
     "iopub.status.idle": "2023-10-29T14:25:17.568182Z",
     "shell.execute_reply": "2023-10-29T14:25:17.566608Z",
     "shell.execute_reply.started": "2023-10-29T14:25:17.35742Z"
    },
    "trusted": true
   },
   "outputs": [],
   "source": [
    "plt.scatter(x=\"2ndFlrSF\", y=\"SalePrice\", data=train_df)"
   ]
  },
  {
   "cell_type": "code",
   "execution_count": null,
   "metadata": {
    "execution": {
     "iopub.execute_input": "2023-10-29T14:25:17.569886Z",
     "iopub.status.busy": "2023-10-29T14:25:17.569571Z",
     "iopub.status.idle": "2023-10-29T14:25:17.781172Z",
     "shell.execute_reply": "2023-10-29T14:25:17.779666Z",
     "shell.execute_reply.started": "2023-10-29T14:25:17.569858Z"
    },
    "trusted": true
   },
   "outputs": [],
   "source": [
    "plt.scatter(x=\"LowQualFinSF\", y=\"SalePrice\", data=train_df)"
   ]
  },
  {
   "cell_type": "code",
   "execution_count": null,
   "metadata": {
    "execution": {
     "iopub.execute_input": "2023-10-29T14:25:17.782641Z",
     "iopub.status.busy": "2023-10-29T14:25:17.782309Z",
     "iopub.status.idle": "2023-10-29T14:25:17.804892Z",
     "shell.execute_reply": "2023-10-29T14:25:17.803802Z",
     "shell.execute_reply.started": "2023-10-29T14:25:17.782613Z"
    },
    "trusted": true
   },
   "outputs": [],
   "source": [
    "train_df.query(\"LowQualFinSF > 500\")\n",
    "# 186"
   ]
  },
  {
   "cell_type": "code",
   "execution_count": null,
   "metadata": {
    "execution": {
     "iopub.execute_input": "2023-10-29T14:25:17.807795Z",
     "iopub.status.busy": "2023-10-29T14:25:17.807042Z",
     "iopub.status.idle": "2023-10-29T14:25:18.018302Z",
     "shell.execute_reply": "2023-10-29T14:25:18.017268Z",
     "shell.execute_reply.started": "2023-10-29T14:25:17.807765Z"
    },
    "trusted": true
   },
   "outputs": [],
   "source": [
    "plt.scatter(x=\"GrLivArea\", y=\"SalePrice\", data=train_df)"
   ]
  },
  {
   "cell_type": "code",
   "execution_count": null,
   "metadata": {
    "execution": {
     "iopub.execute_input": "2023-10-29T14:25:18.019809Z",
     "iopub.status.busy": "2023-10-29T14:25:18.019499Z",
     "iopub.status.idle": "2023-10-29T14:25:18.039668Z",
     "shell.execute_reply": "2023-10-29T14:25:18.038953Z",
     "shell.execute_reply.started": "2023-10-29T14:25:18.019781Z"
    },
    "trusted": true
   },
   "outputs": [],
   "source": [
    "train_df.query(\"GrLivArea > 4400\")\n",
    "# 524, 1299"
   ]
  },
  {
   "cell_type": "code",
   "execution_count": null,
   "metadata": {
    "execution": {
     "iopub.execute_input": "2023-10-29T14:25:18.041132Z",
     "iopub.status.busy": "2023-10-29T14:25:18.040666Z",
     "iopub.status.idle": "2023-10-29T14:25:18.281791Z",
     "shell.execute_reply": "2023-10-29T14:25:18.280377Z",
     "shell.execute_reply.started": "2023-10-29T14:25:18.041102Z"
    },
    "trusted": true
   },
   "outputs": [],
   "source": [
    "plt.scatter(x=\"BsmtFullBath\", y=\"SalePrice\", data=train_df)"
   ]
  },
  {
   "cell_type": "code",
   "execution_count": null,
   "metadata": {
    "execution": {
     "iopub.execute_input": "2023-10-29T14:25:18.284263Z",
     "iopub.status.busy": "2023-10-29T14:25:18.283311Z",
     "iopub.status.idle": "2023-10-29T14:25:18.30573Z",
     "shell.execute_reply": "2023-10-29T14:25:18.304236Z",
     "shell.execute_reply.started": "2023-10-29T14:25:18.284228Z"
    },
    "trusted": true
   },
   "outputs": [],
   "source": [
    "train_df.query(\"BsmtFullBath == 3\")\n",
    "# 739"
   ]
  },
  {
   "cell_type": "code",
   "execution_count": null,
   "metadata": {
    "execution": {
     "iopub.execute_input": "2023-10-29T14:25:18.309387Z",
     "iopub.status.busy": "2023-10-29T14:25:18.309047Z",
     "iopub.status.idle": "2023-10-29T14:25:18.549401Z",
     "shell.execute_reply": "2023-10-29T14:25:18.547495Z",
     "shell.execute_reply.started": "2023-10-29T14:25:18.30936Z"
    },
    "trusted": true
   },
   "outputs": [],
   "source": [
    "plt.scatter(x=\"BsmtHalfBath\", y=\"SalePrice\", data=train_df)"
   ]
  },
  {
   "cell_type": "code",
   "execution_count": null,
   "metadata": {
    "execution": {
     "iopub.execute_input": "2023-10-29T14:25:18.552955Z",
     "iopub.status.busy": "2023-10-29T14:25:18.551419Z",
     "iopub.status.idle": "2023-10-29T14:25:18.569625Z",
     "shell.execute_reply": "2023-10-29T14:25:18.568381Z",
     "shell.execute_reply.started": "2023-10-29T14:25:18.55287Z"
    },
    "trusted": true
   },
   "outputs": [],
   "source": [
    "stats.zscore(train_df[\"BsmtHalfBath\"]).unique()"
   ]
  },
  {
   "cell_type": "code",
   "execution_count": null,
   "metadata": {
    "execution": {
     "iopub.execute_input": "2023-10-29T14:25:18.571431Z",
     "iopub.status.busy": "2023-10-29T14:25:18.571124Z",
     "iopub.status.idle": "2023-10-29T14:25:18.59901Z",
     "shell.execute_reply": "2023-10-29T14:25:18.598016Z",
     "shell.execute_reply.started": "2023-10-29T14:25:18.571403Z"
    },
    "trusted": true
   },
   "outputs": [],
   "source": [
    "train_df.query(\"BsmtHalfBath == 2\")\n",
    "# 598, 955"
   ]
  },
  {
   "cell_type": "code",
   "execution_count": null,
   "metadata": {
    "execution": {
     "iopub.execute_input": "2023-10-29T14:25:18.601553Z",
     "iopub.status.busy": "2023-10-29T14:25:18.600253Z",
     "iopub.status.idle": "2023-10-29T14:25:18.815576Z",
     "shell.execute_reply": "2023-10-29T14:25:18.813913Z",
     "shell.execute_reply.started": "2023-10-29T14:25:18.601519Z"
    },
    "trusted": true
   },
   "outputs": [],
   "source": [
    "plt.scatter(x=\"FullBath\", y=\"SalePrice\", data=train_df)"
   ]
  },
  {
   "cell_type": "code",
   "execution_count": null,
   "metadata": {
    "execution": {
     "iopub.execute_input": "2023-10-29T14:25:18.817422Z",
     "iopub.status.busy": "2023-10-29T14:25:18.816927Z",
     "iopub.status.idle": "2023-10-29T14:25:19.041118Z",
     "shell.execute_reply": "2023-10-29T14:25:19.040254Z",
     "shell.execute_reply.started": "2023-10-29T14:25:18.81736Z"
    },
    "trusted": true
   },
   "outputs": [],
   "source": [
    "plt.scatter(x=\"HalfBath\", y=\"SalePrice\", data=train_df)"
   ]
  },
  {
   "cell_type": "code",
   "execution_count": null,
   "metadata": {
    "execution": {
     "iopub.execute_input": "2023-10-29T14:25:19.042913Z",
     "iopub.status.busy": "2023-10-29T14:25:19.042606Z",
     "iopub.status.idle": "2023-10-29T14:25:19.276109Z",
     "shell.execute_reply": "2023-10-29T14:25:19.275055Z",
     "shell.execute_reply.started": "2023-10-29T14:25:19.042888Z"
    },
    "trusted": true
   },
   "outputs": [],
   "source": [
    "plt.scatter(x=\"BedroomAbvGr\", y=\"SalePrice\", data=train_df)"
   ]
  },
  {
   "cell_type": "code",
   "execution_count": null,
   "metadata": {
    "execution": {
     "iopub.execute_input": "2023-10-29T14:25:19.278764Z",
     "iopub.status.busy": "2023-10-29T14:25:19.278451Z",
     "iopub.status.idle": "2023-10-29T14:25:19.301826Z",
     "shell.execute_reply": "2023-10-29T14:25:19.300837Z",
     "shell.execute_reply.started": "2023-10-29T14:25:19.278737Z"
    },
    "trusted": true
   },
   "outputs": [],
   "source": [
    "train_df.query(\"BedroomAbvGr == 8\")\n",
    "# 636"
   ]
  },
  {
   "cell_type": "code",
   "execution_count": null,
   "metadata": {
    "execution": {
     "iopub.execute_input": "2023-10-29T14:25:19.303385Z",
     "iopub.status.busy": "2023-10-29T14:25:19.303057Z",
     "iopub.status.idle": "2023-10-29T14:25:19.521683Z",
     "shell.execute_reply": "2023-10-29T14:25:19.520382Z",
     "shell.execute_reply.started": "2023-10-29T14:25:19.303362Z"
    },
    "trusted": true
   },
   "outputs": [],
   "source": [
    "plt.scatter(x=\"KitchenAbvGr\", y=\"SalePrice\", data=train_df)"
   ]
  },
  {
   "cell_type": "code",
   "execution_count": null,
   "metadata": {
    "execution": {
     "iopub.execute_input": "2023-10-29T14:25:19.523297Z",
     "iopub.status.busy": "2023-10-29T14:25:19.52294Z",
     "iopub.status.idle": "2023-10-29T14:25:19.545169Z",
     "shell.execute_reply": "2023-10-29T14:25:19.543536Z",
     "shell.execute_reply.started": "2023-10-29T14:25:19.523263Z"
    },
    "trusted": true
   },
   "outputs": [],
   "source": [
    "train_df.query(\"KitchenAbvGr == 3\")\n",
    "# 49, 810"
   ]
  },
  {
   "cell_type": "code",
   "execution_count": null,
   "metadata": {
    "execution": {
     "iopub.execute_input": "2023-10-29T14:25:19.547718Z",
     "iopub.status.busy": "2023-10-29T14:25:19.547253Z",
     "iopub.status.idle": "2023-10-29T14:25:19.760769Z",
     "shell.execute_reply": "2023-10-29T14:25:19.75988Z",
     "shell.execute_reply.started": "2023-10-29T14:25:19.547682Z"
    },
    "trusted": true
   },
   "outputs": [],
   "source": [
    "plt.scatter(x=\"TotRmsAbvGrd\", y=\"SalePrice\", data=train_df)"
   ]
  },
  {
   "cell_type": "code",
   "execution_count": null,
   "metadata": {
    "execution": {
     "iopub.execute_input": "2023-10-29T14:25:19.762283Z",
     "iopub.status.busy": "2023-10-29T14:25:19.762Z",
     "iopub.status.idle": "2023-10-29T14:25:19.784881Z",
     "shell.execute_reply": "2023-10-29T14:25:19.783748Z",
     "shell.execute_reply.started": "2023-10-29T14:25:19.762259Z"
    },
    "trusted": true
   },
   "outputs": [],
   "source": [
    "train_df.query(\"TotRmsAbvGrd == 14\")\n",
    "# 636"
   ]
  },
  {
   "cell_type": "code",
   "execution_count": null,
   "metadata": {
    "execution": {
     "iopub.execute_input": "2023-10-29T14:25:19.786394Z",
     "iopub.status.busy": "2023-10-29T14:25:19.786144Z",
     "iopub.status.idle": "2023-10-29T14:25:20.005583Z",
     "shell.execute_reply": "2023-10-29T14:25:20.004305Z",
     "shell.execute_reply.started": "2023-10-29T14:25:19.786373Z"
    },
    "trusted": true
   },
   "outputs": [],
   "source": [
    "plt.scatter(x=\"Fireplaces\", y=\"SalePrice\", data=train_df)"
   ]
  },
  {
   "cell_type": "code",
   "execution_count": null,
   "metadata": {
    "execution": {
     "iopub.execute_input": "2023-10-29T14:25:20.007553Z",
     "iopub.status.busy": "2023-10-29T14:25:20.007208Z",
     "iopub.status.idle": "2023-10-29T14:25:20.200737Z",
     "shell.execute_reply": "2023-10-29T14:25:20.199153Z",
     "shell.execute_reply.started": "2023-10-29T14:25:20.007515Z"
    },
    "trusted": true
   },
   "outputs": [],
   "source": [
    "plt.scatter(x=\"GarageYrBlt\", y=\"SalePrice\", data=train_df)"
   ]
  },
  {
   "cell_type": "code",
   "execution_count": null,
   "metadata": {
    "execution": {
     "iopub.execute_input": "2023-10-29T14:25:20.202459Z",
     "iopub.status.busy": "2023-10-29T14:25:20.202185Z",
     "iopub.status.idle": "2023-10-29T14:25:20.404361Z",
     "shell.execute_reply": "2023-10-29T14:25:20.403419Z",
     "shell.execute_reply.started": "2023-10-29T14:25:20.202435Z"
    },
    "trusted": true
   },
   "outputs": [],
   "source": [
    "plt.scatter(x=\"GarageCars\", y=\"SalePrice\", data=train_df)"
   ]
  },
  {
   "cell_type": "code",
   "execution_count": null,
   "metadata": {
    "execution": {
     "iopub.execute_input": "2023-10-29T14:25:20.405745Z",
     "iopub.status.busy": "2023-10-29T14:25:20.405475Z",
     "iopub.status.idle": "2023-10-29T14:25:20.603649Z",
     "shell.execute_reply": "2023-10-29T14:25:20.602378Z",
     "shell.execute_reply.started": "2023-10-29T14:25:20.40572Z"
    },
    "trusted": true
   },
   "outputs": [],
   "source": [
    "plt.scatter(x=\"GarageArea\", y=\"SalePrice\", data=train_df)"
   ]
  },
  {
   "cell_type": "code",
   "execution_count": null,
   "metadata": {
    "execution": {
     "iopub.execute_input": "2023-10-29T14:25:20.605962Z",
     "iopub.status.busy": "2023-10-29T14:25:20.60542Z",
     "iopub.status.idle": "2023-10-29T14:25:20.626953Z",
     "shell.execute_reply": "2023-10-29T14:25:20.6259Z",
     "shell.execute_reply.started": "2023-10-29T14:25:20.605929Z"
    },
    "trusted": true
   },
   "outputs": [],
   "source": [
    "train_df.query(\"GarageArea > 1200\")\n",
    "# 1062, 1191"
   ]
  },
  {
   "cell_type": "code",
   "execution_count": null,
   "metadata": {
    "execution": {
     "iopub.execute_input": "2023-10-29T14:25:20.629978Z",
     "iopub.status.busy": "2023-10-29T14:25:20.628728Z",
     "iopub.status.idle": "2023-10-29T14:25:20.834274Z",
     "shell.execute_reply": "2023-10-29T14:25:20.83333Z",
     "shell.execute_reply.started": "2023-10-29T14:25:20.629933Z"
    },
    "trusted": true
   },
   "outputs": [],
   "source": [
    "plt.scatter(x=\"WoodDeckSF\", y=\"SalePrice\", data=train_df)"
   ]
  },
  {
   "cell_type": "code",
   "execution_count": null,
   "metadata": {
    "execution": {
     "iopub.execute_input": "2023-10-29T14:25:20.835696Z",
     "iopub.status.busy": "2023-10-29T14:25:20.835417Z",
     "iopub.status.idle": "2023-10-29T14:25:21.043244Z",
     "shell.execute_reply": "2023-10-29T14:25:21.041543Z",
     "shell.execute_reply.started": "2023-10-29T14:25:20.835671Z"
    },
    "trusted": true
   },
   "outputs": [],
   "source": [
    "plt.scatter(x=\"OpenPorchSF\", y=\"SalePrice\", data=train_df)"
   ]
  },
  {
   "cell_type": "code",
   "execution_count": null,
   "metadata": {
    "execution": {
     "iopub.execute_input": "2023-10-29T14:25:21.04584Z",
     "iopub.status.busy": "2023-10-29T14:25:21.045212Z",
     "iopub.status.idle": "2023-10-29T14:25:21.066298Z",
     "shell.execute_reply": "2023-10-29T14:25:21.065141Z",
     "shell.execute_reply.started": "2023-10-29T14:25:21.045809Z"
    },
    "trusted": true
   },
   "outputs": [],
   "source": [
    "train_df.query(\"OpenPorchSF > 500\")\n",
    "# 496"
   ]
  },
  {
   "cell_type": "code",
   "execution_count": null,
   "metadata": {
    "execution": {
     "iopub.execute_input": "2023-10-29T14:25:21.068225Z",
     "iopub.status.busy": "2023-10-29T14:25:21.067953Z",
     "iopub.status.idle": "2023-10-29T14:25:21.450628Z",
     "shell.execute_reply": "2023-10-29T14:25:21.449151Z",
     "shell.execute_reply.started": "2023-10-29T14:25:21.068201Z"
    },
    "trusted": true
   },
   "outputs": [],
   "source": [
    "plt.scatter(x=\"EnclosedPorch\", y=\"SalePrice\", data=train_df)"
   ]
  },
  {
   "cell_type": "code",
   "execution_count": null,
   "metadata": {
    "execution": {
     "iopub.execute_input": "2023-10-29T14:25:21.452129Z",
     "iopub.status.busy": "2023-10-29T14:25:21.451823Z",
     "iopub.status.idle": "2023-10-29T14:25:21.474713Z",
     "shell.execute_reply": "2023-10-29T14:25:21.473357Z",
     "shell.execute_reply.started": "2023-10-29T14:25:21.452102Z"
    },
    "trusted": true
   },
   "outputs": [],
   "source": [
    "train_df.query(\"EnclosedPorch > 500\")\n",
    "# 198"
   ]
  },
  {
   "cell_type": "code",
   "execution_count": null,
   "metadata": {
    "execution": {
     "iopub.execute_input": "2023-10-29T14:25:21.476556Z",
     "iopub.status.busy": "2023-10-29T14:25:21.476135Z",
     "iopub.status.idle": "2023-10-29T14:25:21.686621Z",
     "shell.execute_reply": "2023-10-29T14:25:21.685401Z",
     "shell.execute_reply.started": "2023-10-29T14:25:21.476525Z"
    },
    "trusted": true
   },
   "outputs": [],
   "source": [
    "plt.scatter(x=\"3SsnPorch\", y=\"SalePrice\", data=train_df)"
   ]
  },
  {
   "cell_type": "code",
   "execution_count": null,
   "metadata": {
    "execution": {
     "iopub.execute_input": "2023-10-29T14:25:21.688975Z",
     "iopub.status.busy": "2023-10-29T14:25:21.68864Z",
     "iopub.status.idle": "2023-10-29T14:25:21.893356Z",
     "shell.execute_reply": "2023-10-29T14:25:21.892137Z",
     "shell.execute_reply.started": "2023-10-29T14:25:21.68895Z"
    },
    "trusted": true
   },
   "outputs": [],
   "source": [
    "plt.scatter(x=\"ScreenPorch\", y=\"SalePrice\", data=train_df)"
   ]
  },
  {
   "cell_type": "code",
   "execution_count": null,
   "metadata": {
    "execution": {
     "iopub.execute_input": "2023-10-29T14:25:21.895346Z",
     "iopub.status.busy": "2023-10-29T14:25:21.894651Z",
     "iopub.status.idle": "2023-10-29T14:25:22.114465Z",
     "shell.execute_reply": "2023-10-29T14:25:22.112755Z",
     "shell.execute_reply.started": "2023-10-29T14:25:21.895299Z"
    },
    "trusted": true
   },
   "outputs": [],
   "source": [
    "plt.scatter(x=\"PoolArea\", y=\"SalePrice\", data=train_df)"
   ]
  },
  {
   "cell_type": "code",
   "execution_count": null,
   "metadata": {
    "execution": {
     "iopub.execute_input": "2023-10-29T14:25:22.116736Z",
     "iopub.status.busy": "2023-10-29T14:25:22.116406Z",
     "iopub.status.idle": "2023-10-29T14:25:22.122138Z",
     "shell.execute_reply": "2023-10-29T14:25:22.120947Z",
     "shell.execute_reply.started": "2023-10-29T14:25:22.116709Z"
    },
    "trusted": true
   },
   "outputs": [],
   "source": [
    "values = [\n",
    "    598,\n",
    "    955,\n",
    "    935,\n",
    "    1299,\n",
    "    250,\n",
    "    314,\n",
    "    336,\n",
    "    707,\n",
    "    379,\n",
    "    1183,\n",
    "    692,\n",
    "    186,\n",
    "    441,\n",
    "    186,\n",
    "    524,\n",
    "    739,\n",
    "    598,\n",
    "    955,\n",
    "    636,\n",
    "    1062,\n",
    "    1191,\n",
    "    496,\n",
    "    198,\n",
    "    1338,\n",
    "]"
   ]
  },
  {
   "cell_type": "code",
   "execution_count": null,
   "metadata": {
    "execution": {
     "iopub.execute_input": "2023-10-29T14:25:22.124782Z",
     "iopub.status.busy": "2023-10-29T14:25:22.124021Z",
     "iopub.status.idle": "2023-10-29T14:25:22.13945Z",
     "shell.execute_reply": "2023-10-29T14:25:22.138206Z",
     "shell.execute_reply.started": "2023-10-29T14:25:22.12475Z"
    },
    "trusted": true
   },
   "outputs": [],
   "source": [
    "train_df = train_df[train_df.Id.isin(values) == False]"
   ]
  },
  {
   "cell_type": "code",
   "execution_count": null,
   "metadata": {
    "execution": {
     "iopub.execute_input": "2023-10-29T14:25:22.141687Z",
     "iopub.status.busy": "2023-10-29T14:25:22.141295Z",
     "iopub.status.idle": "2023-10-29T14:25:22.157492Z",
     "shell.execute_reply": "2023-10-29T14:25:22.15677Z",
     "shell.execute_reply.started": "2023-10-29T14:25:22.141648Z"
    },
    "trusted": true
   },
   "outputs": [],
   "source": [
    "pd.DataFrame(train_df.isnull().sum().sort_values(ascending=False)).head(20)"
   ]
  },
  {
   "cell_type": "code",
   "execution_count": null,
   "metadata": {
    "execution": {
     "iopub.execute_input": "2023-10-29T14:25:22.159767Z",
     "iopub.status.busy": "2023-10-29T14:25:22.158502Z",
     "iopub.status.idle": "2023-10-29T14:25:22.174574Z",
     "shell.execute_reply": "2023-10-29T14:25:22.173244Z",
     "shell.execute_reply.started": "2023-10-29T14:25:22.159678Z"
    },
    "trusted": true
   },
   "outputs": [],
   "source": [
    "train_df[\"MiscFeature\"].unique()"
   ]
  },
  {
   "cell_type": "code",
   "execution_count": null,
   "metadata": {
    "execution": {
     "iopub.execute_input": "2023-10-29T14:25:22.17636Z",
     "iopub.status.busy": "2023-10-29T14:25:22.175942Z",
     "iopub.status.idle": "2023-10-29T14:25:22.189911Z",
     "shell.execute_reply": "2023-10-29T14:25:22.188432Z",
     "shell.execute_reply.started": "2023-10-29T14:25:22.17633Z"
    },
    "trusted": true
   },
   "outputs": [],
   "source": [
    "train_df[\"Alley\"].unique()"
   ]
  },
  {
   "cell_type": "code",
   "execution_count": null,
   "metadata": {
    "execution": {
     "iopub.execute_input": "2023-10-29T14:25:22.191503Z",
     "iopub.status.busy": "2023-10-29T14:25:22.191204Z",
     "iopub.status.idle": "2023-10-29T14:25:22.203782Z",
     "shell.execute_reply": "2023-10-29T14:25:22.202682Z",
     "shell.execute_reply.started": "2023-10-29T14:25:22.191471Z"
    },
    "trusted": true
   },
   "outputs": [],
   "source": [
    "train_df[\"Alley\"].fillna(\"No\", inplace=True)\n",
    "test_df[\"Alley\"].fillna(\"No\", inplace=True)"
   ]
  },
  {
   "cell_type": "code",
   "execution_count": null,
   "metadata": {
    "execution": {
     "iopub.execute_input": "2023-10-29T14:25:22.205304Z",
     "iopub.status.busy": "2023-10-29T14:25:22.204993Z",
     "iopub.status.idle": "2023-10-29T14:25:22.477694Z",
     "shell.execute_reply": "2023-10-29T14:25:22.476596Z",
     "shell.execute_reply.started": "2023-10-29T14:25:22.205281Z"
    },
    "trusted": true
   },
   "outputs": [],
   "source": [
    "sns.catplot(data=train_df, x=\"Alley\", y=\"SalePrice\", kind=\"box\")"
   ]
  },
  {
   "cell_type": "code",
   "execution_count": null,
   "metadata": {
    "execution": {
     "iopub.execute_input": "2023-10-29T14:25:22.480402Z",
     "iopub.status.busy": "2023-10-29T14:25:22.479929Z",
     "iopub.status.idle": "2023-10-29T14:25:22.488779Z",
     "shell.execute_reply": "2023-10-29T14:25:22.487545Z",
     "shell.execute_reply.started": "2023-10-29T14:25:22.480365Z"
    },
    "trusted": true
   },
   "outputs": [],
   "source": [
    "train_df[\"Fence\"].unique()"
   ]
  },
  {
   "cell_type": "code",
   "execution_count": null,
   "metadata": {
    "execution": {
     "iopub.execute_input": "2023-10-29T14:25:22.490487Z",
     "iopub.status.busy": "2023-10-29T14:25:22.490189Z",
     "iopub.status.idle": "2023-10-29T14:25:22.502974Z",
     "shell.execute_reply": "2023-10-29T14:25:22.501692Z",
     "shell.execute_reply.started": "2023-10-29T14:25:22.490463Z"
    },
    "trusted": true
   },
   "outputs": [],
   "source": [
    "train_df[\"Fence\"].fillna(\"No\", inplace=True)\n",
    "test_df[\"Fence\"].fillna(\"No\", inplace=True)"
   ]
  },
  {
   "cell_type": "code",
   "execution_count": null,
   "metadata": {
    "execution": {
     "iopub.execute_input": "2023-10-29T14:25:22.505281Z",
     "iopub.status.busy": "2023-10-29T14:25:22.504883Z",
     "iopub.status.idle": "2023-10-29T14:25:22.787448Z",
     "shell.execute_reply": "2023-10-29T14:25:22.78638Z",
     "shell.execute_reply.started": "2023-10-29T14:25:22.505249Z"
    },
    "trusted": true
   },
   "outputs": [],
   "source": [
    "sns.catplot(data=train_df, x=\"Fence\", y=\"SalePrice\", kind=\"box\")"
   ]
  },
  {
   "cell_type": "code",
   "execution_count": null,
   "metadata": {
    "execution": {
     "iopub.execute_input": "2023-10-29T14:25:22.788852Z",
     "iopub.status.busy": "2023-10-29T14:25:22.788579Z",
     "iopub.status.idle": "2023-10-29T14:25:22.79586Z",
     "shell.execute_reply": "2023-10-29T14:25:22.79434Z",
     "shell.execute_reply.started": "2023-10-29T14:25:22.788829Z"
    },
    "trusted": true
   },
   "outputs": [],
   "source": [
    "train_df[\"MasVnrType\"].unique()"
   ]
  },
  {
   "cell_type": "code",
   "execution_count": null,
   "metadata": {
    "execution": {
     "iopub.execute_input": "2023-10-29T14:25:22.798113Z",
     "iopub.status.busy": "2023-10-29T14:25:22.797703Z",
     "iopub.status.idle": "2023-10-29T14:25:22.80938Z",
     "shell.execute_reply": "2023-10-29T14:25:22.807616Z",
     "shell.execute_reply.started": "2023-10-29T14:25:22.798045Z"
    },
    "trusted": true
   },
   "outputs": [],
   "source": [
    "train_df[\"MasVnrType\"].fillna(\"No\", inplace=True)\n",
    "test_df[\"MasVnrType\"].fillna(\"No\", inplace=True)"
   ]
  },
  {
   "cell_type": "code",
   "execution_count": null,
   "metadata": {
    "execution": {
     "iopub.execute_input": "2023-10-29T14:25:22.812662Z",
     "iopub.status.busy": "2023-10-29T14:25:22.81233Z",
     "iopub.status.idle": "2023-10-29T14:25:23.049943Z",
     "shell.execute_reply": "2023-10-29T14:25:23.048631Z",
     "shell.execute_reply.started": "2023-10-29T14:25:22.812637Z"
    },
    "trusted": true
   },
   "outputs": [],
   "source": [
    "sns.catplot(data=train_df, x=\"MasVnrType\", y=\"SalePrice\", kind=\"box\")"
   ]
  },
  {
   "cell_type": "code",
   "execution_count": null,
   "metadata": {
    "execution": {
     "iopub.execute_input": "2023-10-29T14:25:23.051846Z",
     "iopub.status.busy": "2023-10-29T14:25:23.051475Z",
     "iopub.status.idle": "2023-10-29T14:25:23.058032Z",
     "shell.execute_reply": "2023-10-29T14:25:23.057118Z",
     "shell.execute_reply.started": "2023-10-29T14:25:23.05181Z"
    },
    "trusted": true
   },
   "outputs": [],
   "source": [
    "train_df[\"MasVnrArea\"].fillna(0, inplace=True)\n",
    "test_df[\"MasVnrArea\"].fillna(0, inplace=True)"
   ]
  },
  {
   "cell_type": "code",
   "execution_count": null,
   "metadata": {
    "execution": {
     "iopub.execute_input": "2023-10-29T14:25:23.060326Z",
     "iopub.status.busy": "2023-10-29T14:25:23.059941Z",
     "iopub.status.idle": "2023-10-29T14:25:23.075531Z",
     "shell.execute_reply": "2023-10-29T14:25:23.07406Z",
     "shell.execute_reply.started": "2023-10-29T14:25:23.060297Z"
    },
    "trusted": true
   },
   "outputs": [],
   "source": [
    "train_df[\"FireplaceQu\"].unique()"
   ]
  },
  {
   "cell_type": "code",
   "execution_count": null,
   "metadata": {
    "execution": {
     "iopub.execute_input": "2023-10-29T14:25:23.078051Z",
     "iopub.status.busy": "2023-10-29T14:25:23.077666Z",
     "iopub.status.idle": "2023-10-29T14:25:23.091118Z",
     "shell.execute_reply": "2023-10-29T14:25:23.089658Z",
     "shell.execute_reply.started": "2023-10-29T14:25:23.078019Z"
    },
    "trusted": true
   },
   "outputs": [],
   "source": [
    "train_df[\"FireplaceQu\"].fillna(\"No\", inplace=True)\n",
    "test_df[\"FireplaceQu\"].fillna(\"No\", inplace=True)"
   ]
  },
  {
   "cell_type": "code",
   "execution_count": null,
   "metadata": {
    "execution": {
     "iopub.execute_input": "2023-10-29T14:25:23.09402Z",
     "iopub.status.busy": "2023-10-29T14:25:23.093034Z",
     "iopub.status.idle": "2023-10-29T14:25:23.371919Z",
     "shell.execute_reply": "2023-10-29T14:25:23.370901Z",
     "shell.execute_reply.started": "2023-10-29T14:25:23.093983Z"
    },
    "trusted": true
   },
   "outputs": [],
   "source": [
    "sns.catplot(data=train_df, x=\"FireplaceQu\", y=\"SalePrice\", kind=\"box\")"
   ]
  },
  {
   "cell_type": "code",
   "execution_count": null,
   "metadata": {
    "execution": {
     "iopub.execute_input": "2023-10-29T14:25:23.373428Z",
     "iopub.status.busy": "2023-10-29T14:25:23.373151Z",
     "iopub.status.idle": "2023-10-29T14:25:23.624005Z",
     "shell.execute_reply": "2023-10-29T14:25:23.62306Z",
     "shell.execute_reply.started": "2023-10-29T14:25:23.373403Z"
    },
    "trusted": true
   },
   "outputs": [],
   "source": [
    "sns.catplot(data=train_df, x=\"Fireplaces\", y=\"SalePrice\", kind=\"box\")"
   ]
  },
  {
   "cell_type": "code",
   "execution_count": null,
   "metadata": {
    "execution": {
     "iopub.execute_input": "2023-10-29T14:25:23.626423Z",
     "iopub.status.busy": "2023-10-29T14:25:23.625544Z",
     "iopub.status.idle": "2023-10-29T14:25:23.631744Z",
     "shell.execute_reply": "2023-10-29T14:25:23.630727Z",
     "shell.execute_reply.started": "2023-10-29T14:25:23.626389Z"
    },
    "trusted": true
   },
   "outputs": [],
   "source": [
    "train_df[\"LotFrontage\"].fillna(0, inplace=True)\n",
    "test_df[\"LotFrontage\"].fillna(0, inplace=True)"
   ]
  },
  {
   "cell_type": "code",
   "execution_count": null,
   "metadata": {
    "execution": {
     "iopub.execute_input": "2023-10-29T14:25:23.648023Z",
     "iopub.status.busy": "2023-10-29T14:25:23.646817Z",
     "iopub.status.idle": "2023-10-29T14:25:23.657417Z",
     "shell.execute_reply": "2023-10-29T14:25:23.655679Z",
     "shell.execute_reply.started": "2023-10-29T14:25:23.647988Z"
    },
    "trusted": true
   },
   "outputs": [],
   "source": [
    "train_df[\"GarageYrBlt\"].corr(train_df[\"YearBuilt\"])"
   ]
  },
  {
   "cell_type": "code",
   "execution_count": null,
   "metadata": {
    "execution": {
     "iopub.execute_input": "2023-10-29T14:25:23.659089Z",
     "iopub.status.busy": "2023-10-29T14:25:23.658775Z",
     "iopub.status.idle": "2023-10-29T14:25:23.669645Z",
     "shell.execute_reply": "2023-10-29T14:25:23.668586Z",
     "shell.execute_reply.started": "2023-10-29T14:25:23.659045Z"
    },
    "trusted": true
   },
   "outputs": [],
   "source": [
    "train_df[\"GarageCond\"].unique()"
   ]
  },
  {
   "cell_type": "code",
   "execution_count": null,
   "metadata": {
    "execution": {
     "iopub.execute_input": "2023-10-29T14:25:23.671269Z",
     "iopub.status.busy": "2023-10-29T14:25:23.670768Z",
     "iopub.status.idle": "2023-10-29T14:25:23.684263Z",
     "shell.execute_reply": "2023-10-29T14:25:23.682977Z",
     "shell.execute_reply.started": "2023-10-29T14:25:23.671244Z"
    },
    "trusted": true
   },
   "outputs": [],
   "source": [
    "train_df[\"GarageCond\"].fillna(\"No\", inplace=True)\n",
    "test_df[\"GarageCond\"].fillna(\"No\", inplace=True)"
   ]
  },
  {
   "cell_type": "code",
   "execution_count": null,
   "metadata": {
    "execution": {
     "iopub.execute_input": "2023-10-29T14:25:23.687069Z",
     "iopub.status.busy": "2023-10-29T14:25:23.686622Z",
     "iopub.status.idle": "2023-10-29T14:25:23.962005Z",
     "shell.execute_reply": "2023-10-29T14:25:23.961027Z",
     "shell.execute_reply.started": "2023-10-29T14:25:23.687035Z"
    },
    "trusted": true
   },
   "outputs": [],
   "source": [
    "sns.catplot(data=train_df, x=\"GarageCond\", y=\"SalePrice\", kind=\"box\")"
   ]
  },
  {
   "cell_type": "code",
   "execution_count": null,
   "metadata": {
    "execution": {
     "iopub.execute_input": "2023-10-29T14:25:23.964752Z",
     "iopub.status.busy": "2023-10-29T14:25:23.964386Z",
     "iopub.status.idle": "2023-10-29T14:25:23.971644Z",
     "shell.execute_reply": "2023-10-29T14:25:23.970161Z",
     "shell.execute_reply.started": "2023-10-29T14:25:23.964723Z"
    },
    "trusted": true
   },
   "outputs": [],
   "source": [
    "train_df[\"GarageType\"].fillna(\"No\", inplace=True)\n",
    "test_df[\"GarageType\"].fillna(\"No\", inplace=True)"
   ]
  },
  {
   "cell_type": "code",
   "execution_count": null,
   "metadata": {
    "execution": {
     "iopub.execute_input": "2023-10-29T14:25:23.973864Z",
     "iopub.status.busy": "2023-10-29T14:25:23.973404Z",
     "iopub.status.idle": "2023-10-29T14:25:24.273215Z",
     "shell.execute_reply": "2023-10-29T14:25:24.272339Z",
     "shell.execute_reply.started": "2023-10-29T14:25:23.973833Z"
    },
    "trusted": true
   },
   "outputs": [],
   "source": [
    "sns.catplot(data=train_df, x=\"GarageType\", y=\"SalePrice\", kind=\"box\")"
   ]
  },
  {
   "cell_type": "code",
   "execution_count": null,
   "metadata": {
    "execution": {
     "iopub.execute_input": "2023-10-29T14:25:24.275003Z",
     "iopub.status.busy": "2023-10-29T14:25:24.274641Z",
     "iopub.status.idle": "2023-10-29T14:25:24.281658Z",
     "shell.execute_reply": "2023-10-29T14:25:24.280907Z",
     "shell.execute_reply.started": "2023-10-29T14:25:24.274969Z"
    },
    "trusted": true
   },
   "outputs": [],
   "source": [
    "train_df[\"GarageFinish\"].fillna(\"No\", inplace=True)\n",
    "test_df[\"GarageFinish\"].fillna(\"No\", inplace=True)"
   ]
  },
  {
   "cell_type": "code",
   "execution_count": null,
   "metadata": {
    "execution": {
     "iopub.execute_input": "2023-10-29T14:25:24.283279Z",
     "iopub.status.busy": "2023-10-29T14:25:24.282727Z",
     "iopub.status.idle": "2023-10-29T14:25:24.555704Z",
     "shell.execute_reply": "2023-10-29T14:25:24.554383Z",
     "shell.execute_reply.started": "2023-10-29T14:25:24.28325Z"
    },
    "trusted": true
   },
   "outputs": [],
   "source": [
    "sns.catplot(data=train_df, x=\"GarageFinish\", y=\"SalePrice\", kind=\"box\")"
   ]
  },
  {
   "cell_type": "code",
   "execution_count": null,
   "metadata": {
    "execution": {
     "iopub.execute_input": "2023-10-29T14:25:24.557912Z",
     "iopub.status.busy": "2023-10-29T14:25:24.557483Z",
     "iopub.status.idle": "2023-10-29T14:25:24.566504Z",
     "shell.execute_reply": "2023-10-29T14:25:24.565256Z",
     "shell.execute_reply.started": "2023-10-29T14:25:24.557873Z"
    },
    "trusted": true
   },
   "outputs": [],
   "source": [
    "train_df[\"GarageQual\"].fillna(\"No\", inplace=True)\n",
    "test_df[\"GarageQual\"].fillna(\"No\", inplace=True)"
   ]
  },
  {
   "cell_type": "code",
   "execution_count": null,
   "metadata": {
    "execution": {
     "iopub.execute_input": "2023-10-29T14:25:24.56988Z",
     "iopub.status.busy": "2023-10-29T14:25:24.568915Z",
     "iopub.status.idle": "2023-10-29T14:25:24.85916Z",
     "shell.execute_reply": "2023-10-29T14:25:24.857797Z",
     "shell.execute_reply.started": "2023-10-29T14:25:24.569853Z"
    },
    "trusted": true
   },
   "outputs": [],
   "source": [
    "sns.catplot(data=train_df, x=\"GarageQual\", y=\"SalePrice\", kind=\"box\")"
   ]
  },
  {
   "cell_type": "code",
   "execution_count": null,
   "metadata": {
    "execution": {
     "iopub.execute_input": "2023-10-29T14:25:24.861349Z",
     "iopub.status.busy": "2023-10-29T14:25:24.860449Z",
     "iopub.status.idle": "2023-10-29T14:25:24.86947Z",
     "shell.execute_reply": "2023-10-29T14:25:24.867786Z",
     "shell.execute_reply.started": "2023-10-29T14:25:24.86132Z"
    },
    "trusted": true
   },
   "outputs": [],
   "source": [
    "train_df[\"BsmtFinType2\"].unique()"
   ]
  },
  {
   "cell_type": "code",
   "execution_count": null,
   "metadata": {
    "execution": {
     "iopub.execute_input": "2023-10-29T14:25:24.873213Z",
     "iopub.status.busy": "2023-10-29T14:25:24.870967Z",
     "iopub.status.idle": "2023-10-29T14:25:24.881876Z",
     "shell.execute_reply": "2023-10-29T14:25:24.880662Z",
     "shell.execute_reply.started": "2023-10-29T14:25:24.87317Z"
    },
    "trusted": true
   },
   "outputs": [],
   "source": [
    "train_df[\"BsmtFinType2\"].fillna(\"Unf\", inplace=True)\n",
    "test_df[\"BsmtFinType2\"].fillna(\"Unf\", inplace=True)"
   ]
  },
  {
   "cell_type": "code",
   "execution_count": null,
   "metadata": {
    "execution": {
     "iopub.execute_input": "2023-10-29T14:25:24.883788Z",
     "iopub.status.busy": "2023-10-29T14:25:24.883389Z",
     "iopub.status.idle": "2023-10-29T14:25:25.151233Z",
     "shell.execute_reply": "2023-10-29T14:25:25.149904Z",
     "shell.execute_reply.started": "2023-10-29T14:25:24.883734Z"
    },
    "trusted": true
   },
   "outputs": [],
   "source": [
    "sns.catplot(data=train_df, x=\"BsmtFinType2\", y=\"SalePrice\", kind=\"box\")"
   ]
  },
  {
   "cell_type": "code",
   "execution_count": null,
   "metadata": {
    "execution": {
     "iopub.execute_input": "2023-10-29T14:25:25.15273Z",
     "iopub.status.busy": "2023-10-29T14:25:25.152423Z",
     "iopub.status.idle": "2023-10-29T14:25:25.160004Z",
     "shell.execute_reply": "2023-10-29T14:25:25.15882Z",
     "shell.execute_reply.started": "2023-10-29T14:25:25.152704Z"
    },
    "trusted": true
   },
   "outputs": [],
   "source": [
    "train_df[\"BsmtExposure\"].unique()"
   ]
  },
  {
   "cell_type": "code",
   "execution_count": null,
   "metadata": {
    "execution": {
     "iopub.execute_input": "2023-10-29T14:25:25.161619Z",
     "iopub.status.busy": "2023-10-29T14:25:25.161327Z",
     "iopub.status.idle": "2023-10-29T14:25:25.173788Z",
     "shell.execute_reply": "2023-10-29T14:25:25.172789Z",
     "shell.execute_reply.started": "2023-10-29T14:25:25.161586Z"
    },
    "trusted": true
   },
   "outputs": [],
   "source": [
    "train_df[\"BsmtExposure\"].fillna(\"No\", inplace=True)\n",
    "test_df[\"BsmtExposure\"].fillna(\"No\", inplace=True)"
   ]
  },
  {
   "cell_type": "code",
   "execution_count": null,
   "metadata": {
    "execution": {
     "iopub.execute_input": "2023-10-29T14:25:25.175524Z",
     "iopub.status.busy": "2023-10-29T14:25:25.175155Z",
     "iopub.status.idle": "2023-10-29T14:25:25.423888Z",
     "shell.execute_reply": "2023-10-29T14:25:25.422783Z",
     "shell.execute_reply.started": "2023-10-29T14:25:25.175498Z"
    },
    "trusted": true
   },
   "outputs": [],
   "source": [
    "sns.catplot(data=train_df, x=\"BsmtExposure\", y=\"SalePrice\", kind=\"box\")"
   ]
  },
  {
   "cell_type": "code",
   "execution_count": null,
   "metadata": {
    "execution": {
     "iopub.execute_input": "2023-10-29T14:25:25.426026Z",
     "iopub.status.busy": "2023-10-29T14:25:25.425716Z",
     "iopub.status.idle": "2023-10-29T14:25:25.433442Z",
     "shell.execute_reply": "2023-10-29T14:25:25.432362Z",
     "shell.execute_reply.started": "2023-10-29T14:25:25.425998Z"
    },
    "trusted": true
   },
   "outputs": [],
   "source": [
    "train_df[\"BsmtQual\"].unique()"
   ]
  },
  {
   "cell_type": "code",
   "execution_count": null,
   "metadata": {
    "execution": {
     "iopub.execute_input": "2023-10-29T14:25:25.435519Z",
     "iopub.status.busy": "2023-10-29T14:25:25.435205Z",
     "iopub.status.idle": "2023-10-29T14:25:25.449327Z",
     "shell.execute_reply": "2023-10-29T14:25:25.447703Z",
     "shell.execute_reply.started": "2023-10-29T14:25:25.43548Z"
    },
    "trusted": true
   },
   "outputs": [],
   "source": [
    "train_df[\"BsmtQual\"].fillna(\"No\", inplace=True)\n",
    "test_df[\"BsmtQual\"].fillna(\"No\", inplace=True)"
   ]
  },
  {
   "cell_type": "code",
   "execution_count": null,
   "metadata": {
    "execution": {
     "iopub.execute_input": "2023-10-29T14:25:25.451663Z",
     "iopub.status.busy": "2023-10-29T14:25:25.451187Z",
     "iopub.status.idle": "2023-10-29T14:25:25.730902Z",
     "shell.execute_reply": "2023-10-29T14:25:25.730228Z",
     "shell.execute_reply.started": "2023-10-29T14:25:25.451626Z"
    },
    "trusted": true
   },
   "outputs": [],
   "source": [
    "sns.catplot(data=train_df, x=\"BsmtQual\", y=\"SalePrice\", kind=\"box\")"
   ]
  },
  {
   "cell_type": "code",
   "execution_count": null,
   "metadata": {
    "execution": {
     "iopub.execute_input": "2023-10-29T14:25:25.732364Z",
     "iopub.status.busy": "2023-10-29T14:25:25.731941Z",
     "iopub.status.idle": "2023-10-29T14:25:25.738582Z",
     "shell.execute_reply": "2023-10-29T14:25:25.737666Z",
     "shell.execute_reply.started": "2023-10-29T14:25:25.732339Z"
    },
    "trusted": true
   },
   "outputs": [],
   "source": [
    "train_df[\"BsmtCond\"].unique()"
   ]
  },
  {
   "cell_type": "code",
   "execution_count": null,
   "metadata": {
    "execution": {
     "iopub.execute_input": "2023-10-29T14:25:25.739858Z",
     "iopub.status.busy": "2023-10-29T14:25:25.739621Z",
     "iopub.status.idle": "2023-10-29T14:25:25.753143Z",
     "shell.execute_reply": "2023-10-29T14:25:25.752179Z",
     "shell.execute_reply.started": "2023-10-29T14:25:25.739838Z"
    },
    "trusted": true
   },
   "outputs": [],
   "source": [
    "train_df[\"BsmtCond\"].fillna(\"No\", inplace=True)\n",
    "test_df[\"BsmtCond\"].fillna(\"No\", inplace=True)"
   ]
  },
  {
   "cell_type": "code",
   "execution_count": null,
   "metadata": {
    "execution": {
     "iopub.execute_input": "2023-10-29T14:25:25.754618Z",
     "iopub.status.busy": "2023-10-29T14:25:25.754127Z",
     "iopub.status.idle": "2023-10-29T14:25:26.215399Z",
     "shell.execute_reply": "2023-10-29T14:25:26.21392Z",
     "shell.execute_reply.started": "2023-10-29T14:25:25.754593Z"
    },
    "trusted": true
   },
   "outputs": [],
   "source": [
    "sns.catplot(data=train_df, x=\"BsmtCond\", y=\"SalePrice\", kind=\"box\")"
   ]
  },
  {
   "cell_type": "code",
   "execution_count": null,
   "metadata": {
    "execution": {
     "iopub.execute_input": "2023-10-29T14:25:26.217112Z",
     "iopub.status.busy": "2023-10-29T14:25:26.216762Z",
     "iopub.status.idle": "2023-10-29T14:25:26.223863Z",
     "shell.execute_reply": "2023-10-29T14:25:26.222708Z",
     "shell.execute_reply.started": "2023-10-29T14:25:26.21706Z"
    },
    "trusted": true
   },
   "outputs": [],
   "source": [
    "train_df[\"BsmtFinType1\"].unique()"
   ]
  },
  {
   "cell_type": "code",
   "execution_count": null,
   "metadata": {
    "execution": {
     "iopub.execute_input": "2023-10-29T14:25:26.225807Z",
     "iopub.status.busy": "2023-10-29T14:25:26.225506Z",
     "iopub.status.idle": "2023-10-29T14:25:26.239014Z",
     "shell.execute_reply": "2023-10-29T14:25:26.238022Z",
     "shell.execute_reply.started": "2023-10-29T14:25:26.225785Z"
    },
    "trusted": true
   },
   "outputs": [],
   "source": [
    "train_df[\"BsmtFinType1\"].fillna(\"Unf\", inplace=True)\n",
    "test_df[\"BsmtFinType1\"].fillna(\"Unf\", inplace=True)"
   ]
  },
  {
   "cell_type": "code",
   "execution_count": null,
   "metadata": {
    "execution": {
     "iopub.execute_input": "2023-10-29T14:25:26.24083Z",
     "iopub.status.busy": "2023-10-29T14:25:26.24048Z",
     "iopub.status.idle": "2023-10-29T14:25:26.523789Z",
     "shell.execute_reply": "2023-10-29T14:25:26.522842Z",
     "shell.execute_reply.started": "2023-10-29T14:25:26.240798Z"
    },
    "trusted": true
   },
   "outputs": [],
   "source": [
    "sns.catplot(data=train_df, x=\"BsmtFinType1\", y=\"SalePrice\", kind=\"box\")"
   ]
  },
  {
   "cell_type": "code",
   "execution_count": null,
   "metadata": {
    "execution": {
     "iopub.execute_input": "2023-10-29T14:25:26.525592Z",
     "iopub.status.busy": "2023-10-29T14:25:26.525023Z",
     "iopub.status.idle": "2023-10-29T14:25:26.531682Z",
     "shell.execute_reply": "2023-10-29T14:25:26.530636Z",
     "shell.execute_reply.started": "2023-10-29T14:25:26.525559Z"
    },
    "trusted": true
   },
   "outputs": [],
   "source": [
    "train_df[\"MasVnrArea\"].fillna(0, inplace=True)\n",
    "test_df[\"MasVnrArea\"].fillna(0, inplace=True)"
   ]
  },
  {
   "cell_type": "code",
   "execution_count": null,
   "metadata": {
    "execution": {
     "iopub.execute_input": "2023-10-29T14:25:26.533992Z",
     "iopub.status.busy": "2023-10-29T14:25:26.532698Z",
     "iopub.status.idle": "2023-10-29T14:25:26.547358Z",
     "shell.execute_reply": "2023-10-29T14:25:26.546262Z",
     "shell.execute_reply.started": "2023-10-29T14:25:26.533938Z"
    },
    "trusted": true
   },
   "outputs": [],
   "source": [
    "train_df[\"Electrical\"].fillna(\"SBrkr\", inplace=True)\n",
    "test_df[\"Electrical\"].fillna(\"SBrkr\", inplace=True)"
   ]
  },
  {
   "cell_type": "code",
   "execution_count": null,
   "metadata": {
    "execution": {
     "iopub.execute_input": "2023-10-29T14:25:26.549271Z",
     "iopub.status.busy": "2023-10-29T14:25:26.548898Z",
     "iopub.status.idle": "2023-10-29T14:25:26.565771Z",
     "shell.execute_reply": "2023-10-29T14:25:26.564339Z",
     "shell.execute_reply.started": "2023-10-29T14:25:26.549245Z"
    },
    "trusted": true
   },
   "outputs": [],
   "source": [
    "train_df = train_df.drop(\n",
    "    columns=[\n",
    "        \"PoolQC\",\n",
    "        \"MiscFeature\",\n",
    "        \"Alley\",\n",
    "        \"Fence\",\n",
    "        \"GarageYrBlt\",\n",
    "        \"GarageCond\",\n",
    "        \"BsmtFinType2\",\n",
    "    ]\n",
    ")\n",
    "\n",
    "\n",
    "\n",
    "test_df = test_df.drop(\n",
    "    columns=[\n",
    "        \"PoolQC\",\n",
    "        \"MiscFeature\",\n",
    "        \"Alley\",\n",
    "        \"Fence\",\n",
    "        \"GarageYrBlt\",\n",
    "        \"GarageCond\",\n",
    "        \"BsmtFinType2\",\n",
    "    ]\n",
    ")"
   ]
  },
  {
   "cell_type": "code",
   "execution_count": null,
   "metadata": {
    "execution": {
     "iopub.execute_input": "2023-10-29T14:25:26.569047Z",
     "iopub.status.busy": "2023-10-29T14:25:26.567805Z",
     "iopub.status.idle": "2023-10-29T14:25:26.580995Z",
     "shell.execute_reply": "2023-10-29T14:25:26.579652Z",
     "shell.execute_reply.started": "2023-10-29T14:25:26.568996Z"
    },
    "trusted": true
   },
   "outputs": [],
   "source": [
    "# feature engineering"
   ]
  },
  {
   "cell_type": "code",
   "execution_count": null,
   "metadata": {
    "execution": {
     "iopub.execute_input": "2023-10-29T14:25:26.583652Z",
     "iopub.status.busy": "2023-10-29T14:25:26.583195Z",
     "iopub.status.idle": "2023-10-29T14:25:26.59717Z",
     "shell.execute_reply": "2023-10-29T14:25:26.596107Z",
     "shell.execute_reply.started": "2023-10-29T14:25:26.583594Z"
    },
    "trusted": true
   },
   "outputs": [],
   "source": [
    "train_df[\"houseage\"] = train_df[\"YrSold\"] - train_df[\"YearBuilt\"]\n",
    "test_df[\"houseage\"] = test_df[\"YrSold\"] - test_df[\"YearBuilt\"]"
   ]
  },
  {
   "cell_type": "code",
   "execution_count": null,
   "metadata": {
    "execution": {
     "iopub.execute_input": "2023-10-29T14:25:26.598991Z",
     "iopub.status.busy": "2023-10-29T14:25:26.598488Z",
     "iopub.status.idle": "2023-10-29T14:25:26.610988Z",
     "shell.execute_reply": "2023-10-29T14:25:26.609827Z",
     "shell.execute_reply.started": "2023-10-29T14:25:26.598952Z"
    },
    "trusted": true
   },
   "outputs": [],
   "source": [
    "train_df[\"houseremodelage\"] = train_df[\"YrSold\"] - train_df[\"YearRemodAdd\"]\n",
    "test_df[\"houseremodelage\"] = test_df[\"YrSold\"] - test_df[\"YearRemodAdd\"]"
   ]
  },
  {
   "cell_type": "code",
   "execution_count": null,
   "metadata": {
    "execution": {
     "iopub.execute_input": "2023-10-29T14:25:26.612578Z",
     "iopub.status.busy": "2023-10-29T14:25:26.612258Z",
     "iopub.status.idle": "2023-10-29T14:25:26.627678Z",
     "shell.execute_reply": "2023-10-29T14:25:26.626456Z",
     "shell.execute_reply.started": "2023-10-29T14:25:26.612517Z"
    },
    "trusted": true
   },
   "outputs": [],
   "source": [
    "train_df[\"totalsf\"] = (\n",
    "    train_df[\"1stFlrSF\"]\n",
    "    + train_df[\"2ndFlrSF\"]\n",
    "    + train_df[\"BsmtFinSF1\"]\n",
    "    + train_df[\"BsmtFinSF2\"]\n",
    ")\n",
    "\n",
    "\n",
    "\n",
    "test_df[\"totalsf\"] = (\n",
    "    test_df[\"1stFlrSF\"]\n",
    "    + test_df[\"2ndFlrSF\"]\n",
    "    + test_df[\"BsmtFinSF1\"]\n",
    "    + test_df[\"BsmtFinSF2\"]\n",
    ")"
   ]
  },
  {
   "cell_type": "code",
   "execution_count": null,
   "metadata": {
    "execution": {
     "iopub.execute_input": "2023-10-29T14:25:26.630344Z",
     "iopub.status.busy": "2023-10-29T14:25:26.629683Z",
     "iopub.status.idle": "2023-10-29T14:25:26.641005Z",
     "shell.execute_reply": "2023-10-29T14:25:26.639506Z",
     "shell.execute_reply.started": "2023-10-29T14:25:26.630305Z"
    },
    "trusted": true
   },
   "outputs": [],
   "source": [
    "train_df[\"totalarea\"] = train_df[\"GrLivArea\"] + train_df[\"TotalBsmtSF\"]\n",
    "test_df[\"totalarea\"] = test_df[\"GrLivArea\"] + test_df[\"TotalBsmtSF\"]"
   ]
  },
  {
   "cell_type": "code",
   "execution_count": null,
   "metadata": {
    "execution": {
     "iopub.execute_input": "2023-10-29T14:25:26.642703Z",
     "iopub.status.busy": "2023-10-29T14:25:26.642294Z",
     "iopub.status.idle": "2023-10-29T14:25:26.658035Z",
     "shell.execute_reply": "2023-10-29T14:25:26.657007Z",
     "shell.execute_reply.started": "2023-10-29T14:25:26.642673Z"
    },
    "trusted": true
   },
   "outputs": [],
   "source": [
    "train_df[\"totalbaths\"] = (\n",
    "    train_df[\"BsmtFullBath\"]\n",
    "    + train_df[\"FullBath\"]\n",
    "    + 0.5 * (train_df[\"BsmtHalfBath\"] + train_df[\"HalfBath\"])\n",
    ")\n",
    "\n",
    "\n",
    "\n",
    "test_df[\"totalbaths\"] = (\n",
    "    test_df[\"BsmtFullBath\"]\n",
    "    + test_df[\"FullBath\"]\n",
    "    + 0.5 * (test_df[\"BsmtHalfBath\"] + test_df[\"HalfBath\"])\n",
    ")"
   ]
  },
  {
   "cell_type": "code",
   "execution_count": null,
   "metadata": {
    "execution": {
     "iopub.execute_input": "2023-10-29T14:25:26.659678Z",
     "iopub.status.busy": "2023-10-29T14:25:26.659372Z",
     "iopub.status.idle": "2023-10-29T14:25:26.672655Z",
     "shell.execute_reply": "2023-10-29T14:25:26.671482Z",
     "shell.execute_reply.started": "2023-10-29T14:25:26.65965Z"
    },
    "trusted": true
   },
   "outputs": [],
   "source": [
    "train_df[\"totalporchsf\"] = (\n",
    "    train_df[\"OpenPorchSF\"]\n",
    "    + train_df[\"3SsnPorch\"]\n",
    "    + train_df[\"EnclosedPorch\"]\n",
    "    + train_df[\"ScreenPorch\"]\n",
    "    + train_df[\"WoodDeckSF\"]\n",
    ")\n",
    "test_df[\"totalporchsf\"] = (\n",
    "    test_df[\"OpenPorchSF\"]\n",
    "    + test_df[\"3SsnPorch\"]\n",
    "    + test_df[\"EnclosedPorch\"]\n",
    "    + test_df[\"ScreenPorch\"]\n",
    "    + test_df[\"WoodDeckSF\"]\n",
    ")"
   ]
  },
  {
   "cell_type": "code",
   "execution_count": null,
   "metadata": {
    "execution": {
     "iopub.execute_input": "2023-10-29T14:25:26.674473Z",
     "iopub.status.busy": "2023-10-29T14:25:26.673937Z",
     "iopub.status.idle": "2023-10-29T14:25:26.686715Z",
     "shell.execute_reply": "2023-10-29T14:25:26.684711Z",
     "shell.execute_reply.started": "2023-10-29T14:25:26.674442Z"
    },
    "trusted": true
   },
   "outputs": [],
   "source": [
    "train_df = train_df.drop(\n",
    "    columns=[\n",
    "        \"Id\",\n",
    "        \"YrSold\",\n",
    "        \"YearBuilt\",\n",
    "        \"YearRemodAdd\",\n",
    "        \"1stFlrSF\",\n",
    "        \"2ndFlrSF\",\n",
    "        \"BsmtFinSF1\",\n",
    "        \"BsmtFinSF2\",\n",
    "        \"GrLivArea\",\n",
    "        \"TotalBsmtSF\",\n",
    "        \"BsmtFullBath\",\n",
    "        \"FullBath\",\n",
    "        \"BsmtHalfBath\",\n",
    "        \"HalfBath\",\n",
    "        \"OpenPorchSF\",\n",
    "        \"3SsnPorch\",\n",
    "        \"EnclosedPorch\",\n",
    "        \"ScreenPorch\",\n",
    "        \"WoodDeckSF\",\n",
    "    ]\n",
    ")\n",
    "\n",
    "\n",
    "\n",
    "test_df = test_df.drop(\n",
    "    columns=[\n",
    "        \"YrSold\",\n",
    "        \"YearBuilt\",\n",
    "        \"YearRemodAdd\",\n",
    "        \"1stFlrSF\",\n",
    "        \"2ndFlrSF\",\n",
    "        \"BsmtFinSF1\",\n",
    "        \"BsmtFinSF2\",\n",
    "        \"GrLivArea\",\n",
    "        \"TotalBsmtSF\",\n",
    "        \"BsmtFullBath\",\n",
    "        \"FullBath\",\n",
    "        \"BsmtHalfBath\",\n",
    "        \"HalfBath\",\n",
    "        \"OpenPorchSF\",\n",
    "        \"3SsnPorch\",\n",
    "        \"EnclosedPorch\",\n",
    "        \"ScreenPorch\",\n",
    "        \"WoodDeckSF\",\n",
    "    ]\n",
    ")"
   ]
  },
  {
   "cell_type": "code",
   "execution_count": null,
   "metadata": {
    "execution": {
     "iopub.execute_input": "2023-10-29T14:25:26.688547Z",
     "iopub.status.busy": "2023-10-29T14:25:26.687946Z",
     "iopub.status.idle": "2023-10-29T14:25:28.372062Z",
     "shell.execute_reply": "2023-10-29T14:25:28.370943Z",
     "shell.execute_reply.started": "2023-10-29T14:25:26.688514Z"
    },
    "trusted": true
   },
   "outputs": [],
   "source": [
    "correlation_matrix = train_df.corr(numeric_only=True)\n",
    "plt.figure(figsize=(20, 12))\n",
    "sns.heatmap(correlation_matrix, annot=True, cmap=\"coolwarm\", fmt=\".2f\")"
   ]
  },
  {
   "cell_type": "code",
   "execution_count": null,
   "metadata": {
    "execution": {
     "iopub.execute_input": "2023-10-29T14:25:28.373766Z",
     "iopub.status.busy": "2023-10-29T14:25:28.37347Z",
     "iopub.status.idle": "2023-10-29T14:25:28.377952Z",
     "shell.execute_reply": "2023-10-29T14:25:28.377128Z",
     "shell.execute_reply.started": "2023-10-29T14:25:28.373743Z"
    },
    "trusted": true
   },
   "outputs": [],
   "source": [
    "# drop GarageArea or GarageCars"
   ]
  },
  {
   "cell_type": "code",
   "execution_count": null,
   "metadata": {
    "execution": {
     "iopub.execute_input": "2023-10-29T14:25:28.379243Z",
     "iopub.status.busy": "2023-10-29T14:25:28.378988Z",
     "iopub.status.idle": "2023-10-29T14:25:28.39637Z",
     "shell.execute_reply": "2023-10-29T14:25:28.394994Z",
     "shell.execute_reply.started": "2023-10-29T14:25:28.379221Z"
    },
    "trusted": true
   },
   "outputs": [],
   "source": [
    "train_df = train_df.drop(columns=[\"GarageArea\"])\n",
    "test_df = test_df.drop(columns=[\"GarageArea\"])"
   ]
  },
  {
   "cell_type": "code",
   "execution_count": null,
   "metadata": {
    "execution": {
     "iopub.execute_input": "2023-10-29T14:25:28.398481Z",
     "iopub.status.busy": "2023-10-29T14:25:28.3981Z",
     "iopub.status.idle": "2023-10-29T14:25:28.667855Z",
     "shell.execute_reply": "2023-10-29T14:25:28.666865Z",
     "shell.execute_reply.started": "2023-10-29T14:25:28.398447Z"
    },
    "trusted": true
   },
   "outputs": [],
   "source": [
    "sns.histplot(train_df, x=train_df[\"SalePrice\"])"
   ]
  },
  {
   "cell_type": "code",
   "execution_count": null,
   "metadata": {
    "execution": {
     "iopub.execute_input": "2023-10-29T14:25:28.669247Z",
     "iopub.status.busy": "2023-10-29T14:25:28.668938Z",
     "iopub.status.idle": "2023-10-29T14:25:28.675855Z",
     "shell.execute_reply": "2023-10-29T14:25:28.674756Z",
     "shell.execute_reply.started": "2023-10-29T14:25:28.669222Z"
    },
    "trusted": true
   },
   "outputs": [],
   "source": [
    "train_df[\"SalePrice\"] = np.log1p(train_df[\"SalePrice\"])"
   ]
  },
  {
   "cell_type": "code",
   "execution_count": null,
   "metadata": {
    "execution": {
     "iopub.execute_input": "2023-10-29T14:25:28.677969Z",
     "iopub.status.busy": "2023-10-29T14:25:28.677195Z",
     "iopub.status.idle": "2023-10-29T14:25:28.931058Z",
     "shell.execute_reply": "2023-10-29T14:25:28.929944Z",
     "shell.execute_reply.started": "2023-10-29T14:25:28.677926Z"
    },
    "trusted": true
   },
   "outputs": [],
   "source": [
    "sns.histplot(train_df, x=train_df[\"SalePrice\"])"
   ]
  },
  {
   "cell_type": "code",
   "execution_count": null,
   "metadata": {
    "execution": {
     "iopub.execute_input": "2023-10-29T14:25:28.933707Z",
     "iopub.status.busy": "2023-10-29T14:25:28.93332Z",
     "iopub.status.idle": "2023-10-29T14:25:28.944817Z",
     "shell.execute_reply": "2023-10-29T14:25:28.94298Z",
     "shell.execute_reply.started": "2023-10-29T14:25:28.933667Z"
    },
    "trusted": true
   },
   "outputs": [],
   "source": [
    "train_df.dtypes[train_df.dtypes == \"object\"]"
   ]
  },
  {
   "cell_type": "code",
   "execution_count": null,
   "metadata": {
    "execution": {
     "iopub.execute_input": "2023-10-29T14:25:28.946202Z",
     "iopub.status.busy": "2023-10-29T14:25:28.94587Z",
     "iopub.status.idle": "2023-10-29T14:25:28.959748Z",
     "shell.execute_reply": "2023-10-29T14:25:28.958695Z",
     "shell.execute_reply.started": "2023-10-29T14:25:28.946172Z"
    },
    "trusted": true
   },
   "outputs": [],
   "source": [
    "train_df.dtypes[train_df.dtypes != \"object\"]"
   ]
  },
  {
   "cell_type": "code",
   "execution_count": null,
   "metadata": {
    "execution": {
     "iopub.execute_input": "2023-10-29T14:25:28.961395Z",
     "iopub.status.busy": "2023-10-29T14:25:28.961062Z",
     "iopub.status.idle": "2023-10-29T14:25:28.971221Z",
     "shell.execute_reply": "2023-10-29T14:25:28.970106Z",
     "shell.execute_reply.started": "2023-10-29T14:25:28.961364Z"
    },
    "trusted": true
   },
   "outputs": [],
   "source": [
    "ode_cols = [\n",
    "    \"LotShape\",\n",
    "    \"LandContour\",\n",
    "    \"Utilities\",\n",
    "    \"LandSlope\",\n",
    "    \"BsmtQual\",\n",
    "    \"BsmtFinType1\",\n",
    "    \"CentralAir\",\n",
    "    \"Functional\",\n",
    "    \"FireplaceQu\",\n",
    "    \"GarageFinish\",\n",
    "    \"GarageQual\",\n",
    "    \"PavedDrive\",\n",
    "    \"ExterCond\",\n",
    "    \"KitchenQual\",\n",
    "    \"BsmtExposure\",\n",
    "    \"HeatingQC\",\n",
    "    \"ExterQual\",\n",
    "    \"BsmtCond\",\n",
    "]"
   ]
  },
  {
   "cell_type": "code",
   "execution_count": null,
   "metadata": {
    "execution": {
     "iopub.execute_input": "2023-10-29T14:25:28.975373Z",
     "iopub.status.busy": "2023-10-29T14:25:28.97501Z",
     "iopub.status.idle": "2023-10-29T14:25:28.98202Z",
     "shell.execute_reply": "2023-10-29T14:25:28.981289Z",
     "shell.execute_reply.started": "2023-10-29T14:25:28.975338Z"
    },
    "trusted": true
   },
   "outputs": [],
   "source": [
    "ohe_cols = [\n",
    "    \"Street\",\n",
    "    \"LotConfig\",\n",
    "    \"Neighborhood\",\n",
    "    \"Condition1\",\n",
    "    \"Condition2\",\n",
    "    \"BldgType\",\n",
    "    \"HouseStyle\",\n",
    "    \"RoofStyle\",\n",
    "    \"Exterior1st\",\n",
    "    \"Exterior2nd\",\n",
    "    \"MasVnrType\",\n",
    "    \"Foundation\",\n",
    "    \"Electrical\",\n",
    "    \"SaleType\",\n",
    "    \"MSZoning\",\n",
    "    \"SaleCondition\",\n",
    "    \"Heating\",\n",
    "    \"GarageType\",\n",
    "    \"RoofMatl\",\n",
    "]"
   ]
  },
  {
   "cell_type": "code",
   "execution_count": null,
   "metadata": {
    "execution": {
     "iopub.execute_input": "2023-10-29T14:25:28.984018Z",
     "iopub.status.busy": "2023-10-29T14:25:28.98372Z",
     "iopub.status.idle": "2023-10-29T14:25:28.997027Z",
     "shell.execute_reply": "2023-10-29T14:25:28.995668Z",
     "shell.execute_reply.started": "2023-10-29T14:25:28.983986Z"
    },
    "trusted": true
   },
   "outputs": [],
   "source": [
    "num_cols = train_df.select_dtypes(include=[\"int64\", \"float64\"]).columns\n",
    "num_cols = num_cols.drop(\"SalePrice\")"
   ]
  },
  {
   "cell_type": "code",
   "execution_count": null,
   "metadata": {
    "execution": {
     "iopub.execute_input": "2023-10-29T14:25:28.999675Z",
     "iopub.status.busy": "2023-10-29T14:25:28.998257Z",
     "iopub.status.idle": "2023-10-29T14:25:29.009954Z",
     "shell.execute_reply": "2023-10-29T14:25:29.008624Z",
     "shell.execute_reply.started": "2023-10-29T14:25:28.999631Z"
    },
    "trusted": true
   },
   "outputs": [],
   "source": [
    "num_pipeline = Pipeline(\n",
    "    steps=[(\"impute\", SimpleImputer(strategy=\"mean\")), (\"scaler\", StandardScaler())]\n",
    ")"
   ]
  },
  {
   "cell_type": "code",
   "execution_count": null,
   "metadata": {
    "execution": {
     "iopub.execute_input": "2023-10-29T14:25:29.012343Z",
     "iopub.status.busy": "2023-10-29T14:25:29.011488Z",
     "iopub.status.idle": "2023-10-29T14:25:29.025362Z",
     "shell.execute_reply": "2023-10-29T14:25:29.022955Z",
     "shell.execute_reply.started": "2023-10-29T14:25:29.01231Z"
    },
    "trusted": true
   },
   "outputs": [],
   "source": [
    "ode_pipeline = Pipeline(\n",
    "    steps=[\n",
    "\n",
    "        (\"impute\", SimpleImputer(strategy=\"most_frequent\")),\n",
    "\n",
    "        (\"ode\", OrdinalEncoder(handle_unknown=\"use_encoded_value\", unknown_value=-1)),\n",
    "    ]\n",
    ")"
   ]
  },
  {
   "cell_type": "code",
   "execution_count": null,
   "metadata": {
    "execution": {
     "iopub.execute_input": "2023-10-29T14:25:29.027991Z",
     "iopub.status.busy": "2023-10-29T14:25:29.027458Z",
     "iopub.status.idle": "2023-10-29T14:25:29.042291Z",
     "shell.execute_reply": "2023-10-29T14:25:29.04111Z",
     "shell.execute_reply.started": "2023-10-29T14:25:29.027963Z"
    },
    "trusted": true
   },
   "outputs": [],
   "source": [
    "ohe_pipeline = Pipeline(\n",
    "    steps=[\n",
    "\n",
    "        (\"impute\", SimpleImputer(strategy=\"most_frequent\")),\n",
    "\n",
    "        (\"ohe\", OneHotEncoder(handle_unknown=\"ignore\", sparse_output=False)),\n",
    "    ]\n",
    ")"
   ]
  },
  {
   "cell_type": "code",
   "execution_count": null,
   "metadata": {
    "execution": {
     "iopub.execute_input": "2023-10-29T14:25:29.043944Z",
     "iopub.status.busy": "2023-10-29T14:25:29.043635Z",
     "iopub.status.idle": "2023-10-29T14:25:29.054894Z",
     "shell.execute_reply": "2023-10-29T14:25:29.054097Z",
     "shell.execute_reply.started": "2023-10-29T14:25:29.043917Z"
    },
    "trusted": true
   },
   "outputs": [],
   "source": [
    "col_trans = ColumnTransformer(\n",
    "    transformers=[\n",
    "        (\"num_p\", num_pipeline, num_cols),\n",
    "        (\"ode_p\", ode_pipeline, ode_cols),\n",
    "        (\"ohe_p\", ohe_pipeline, ohe_cols),\n",
    "\n",
    "    ],\n",
    "    remainder=\"passthrough\",\n",
    "\n",
    "    n_jobs=-1,\n",
    ")"
   ]
  },
  {
   "cell_type": "code",
   "execution_count": null,
   "metadata": {
    "execution": {
     "iopub.execute_input": "2023-10-29T14:25:29.056844Z",
     "iopub.status.busy": "2023-10-29T14:25:29.055942Z",
     "iopub.status.idle": "2023-10-29T14:25:29.068896Z",
     "shell.execute_reply": "2023-10-29T14:25:29.067463Z",
     "shell.execute_reply.started": "2023-10-29T14:25:29.056812Z"
    },
    "trusted": true
   },
   "outputs": [],
   "source": [
    "pipeline = Pipeline(steps=[(\"preprocessing\", col_trans)])"
   ]
  },
  {
   "cell_type": "code",
   "execution_count": null,
   "metadata": {
    "execution": {
     "iopub.execute_input": "2023-10-29T14:25:29.070923Z",
     "iopub.status.busy": "2023-10-29T14:25:29.070571Z",
     "iopub.status.idle": "2023-10-29T14:25:29.083541Z",
     "shell.execute_reply": "2023-10-29T14:25:29.082631Z",
     "shell.execute_reply.started": "2023-10-29T14:25:29.070896Z"
    },
    "trusted": true
   },
   "outputs": [],
   "source": [
    "X = train_df.drop(\"SalePrice\", axis=1)\n",
    "y = train_df[\"SalePrice\"]"
   ]
  },
  {
   "cell_type": "code",
   "execution_count": null,
   "metadata": {
    "execution": {
     "iopub.execute_input": "2023-10-29T14:25:29.085476Z",
     "iopub.status.busy": "2023-10-29T14:25:29.084567Z",
     "iopub.status.idle": "2023-10-29T14:25:30.429107Z",
     "shell.execute_reply": "2023-10-29T14:25:30.42818Z",
     "shell.execute_reply.started": "2023-10-29T14:25:29.085443Z"
    },
    "trusted": true
   },
   "outputs": [],
   "source": [
    "X_preprocessed = pipeline.fit_transform(X)"
   ]
  },
  {
   "cell_type": "code",
   "execution_count": null,
   "metadata": {
    "execution": {
     "iopub.execute_input": "2023-10-29T14:25:30.431033Z",
     "iopub.status.busy": "2023-10-29T14:25:30.430555Z",
     "iopub.status.idle": "2023-10-29T14:25:30.438986Z",
     "shell.execute_reply": "2023-10-29T14:25:30.437854Z",
     "shell.execute_reply.started": "2023-10-29T14:25:30.431002Z"
    },
    "trusted": true
   },
   "outputs": [],
   "source": [
    "X_train, X_test, y_train, y_test = train_test_split(\n",
    "    X_preprocessed, y, test_size=0.2, random_state=25\n",
    ")"
   ]
  },
  {
   "cell_type": "code",
   "execution_count": null,
   "metadata": {
    "execution": {
     "iopub.execute_input": "2023-10-29T14:25:30.440685Z",
     "iopub.status.busy": "2023-10-29T14:25:30.440327Z",
     "iopub.status.idle": "2023-10-29T14:25:30.449122Z",
     "shell.execute_reply": "2023-10-29T14:25:30.447741Z",
     "shell.execute_reply.started": "2023-10-29T14:25:30.440615Z"
    },
    "trusted": true
   },
   "outputs": [],
   "source": [
    "# build models"
   ]
  },
  {
   "cell_type": "code",
   "execution_count": null,
   "metadata": {
    "execution": {
     "iopub.execute_input": "2023-10-29T14:25:30.450895Z",
     "iopub.status.busy": "2023-10-29T14:25:30.450423Z",
     "iopub.status.idle": "2023-10-29T14:25:30.460886Z",
     "shell.execute_reply": "2023-10-29T14:25:30.459646Z",
     "shell.execute_reply.started": "2023-10-29T14:25:30.45086Z"
    },
    "trusted": true
   },
   "outputs": [],
   "source": [
    "lr = LinearRegression()"
   ]
  },
  {
   "cell_type": "code",
   "execution_count": null,
   "metadata": {
    "execution": {
     "iopub.execute_input": "2023-10-29T14:25:30.462746Z",
     "iopub.status.busy": "2023-10-29T14:25:30.462215Z",
     "iopub.status.idle": "2023-10-29T14:25:30.520269Z",
     "shell.execute_reply": "2023-10-29T14:25:30.519506Z",
     "shell.execute_reply.started": "2023-10-29T14:25:30.462717Z"
    },
    "trusted": true
   },
   "outputs": [],
   "source": [
    "lr.fit(X_train, y_train)"
   ]
  },
  {
   "cell_type": "code",
   "execution_count": null,
   "metadata": {
    "execution": {
     "iopub.execute_input": "2023-10-29T14:25:30.521936Z",
     "iopub.status.busy": "2023-10-29T14:25:30.52149Z",
     "iopub.status.idle": "2023-10-29T14:25:30.539232Z",
     "shell.execute_reply": "2023-10-29T14:25:30.538409Z",
     "shell.execute_reply.started": "2023-10-29T14:25:30.521907Z"
    },
    "trusted": true
   },
   "outputs": [],
   "source": [
    "y_pred_lr = lr.predict(X_test)"
   ]
  },
  {
   "cell_type": "code",
   "execution_count": null,
   "metadata": {
    "execution": {
     "iopub.execute_input": "2023-10-29T14:25:30.543162Z",
     "iopub.status.busy": "2023-10-29T14:25:30.542545Z",
     "iopub.status.idle": "2023-10-29T14:25:30.55625Z",
     "shell.execute_reply": "2023-10-29T14:25:30.555322Z",
     "shell.execute_reply.started": "2023-10-29T14:25:30.543133Z"
    },
    "trusted": true
   },
   "outputs": [],
   "source": [
    "mean_squared_error(y_test, y_pred_lr)"
   ]
  },
  {
   "cell_type": "code",
   "execution_count": null,
   "metadata": {
    "execution": {
     "iopub.execute_input": "2023-10-29T14:25:30.558047Z",
     "iopub.status.busy": "2023-10-29T14:25:30.557554Z",
     "iopub.status.idle": "2023-10-29T14:25:30.564331Z",
     "shell.execute_reply": "2023-10-29T14:25:30.563386Z",
     "shell.execute_reply.started": "2023-10-29T14:25:30.558016Z"
    },
    "trusted": true
   },
   "outputs": [],
   "source": [
    "RFR = RandomForestRegressor(random_state=13)"
   ]
  },
  {
   "cell_type": "code",
   "execution_count": null,
   "metadata": {
    "execution": {
     "iopub.execute_input": "2023-10-29T14:25:30.565851Z",
     "iopub.status.busy": "2023-10-29T14:25:30.565525Z",
     "iopub.status.idle": "2023-10-29T14:25:30.576346Z",
     "shell.execute_reply": "2023-10-29T14:25:30.575385Z",
     "shell.execute_reply.started": "2023-10-29T14:25:30.565821Z"
    },
    "trusted": true
   },
   "outputs": [],
   "source": [
    "param_grid_RFR = {\n",
    "    \"max_depth\": [5, 10, 15],\n",
    "    \"n_estimators\": [100, 250, 500],\n",
    "    \"min_samples_split\": [3, 5, 10],\n",
    "}"
   ]
  },
  {
   "cell_type": "code",
   "execution_count": null,
   "metadata": {
    "execution": {
     "iopub.execute_input": "2023-10-29T14:25:30.577849Z",
     "iopub.status.busy": "2023-10-29T14:25:30.577474Z",
     "iopub.status.idle": "2023-10-29T14:25:30.587368Z",
     "shell.execute_reply": "2023-10-29T14:25:30.586524Z",
     "shell.execute_reply.started": "2023-10-29T14:25:30.577818Z"
    },
    "trusted": true
   },
   "outputs": [],
   "source": [
    "rfr_cv = GridSearchCV(\n",
    "    RFR, param_grid_RFR, cv=5, scoring=\"neg_mean_squared_error\", n_jobs=-1\n",
    ")"
   ]
  },
  {
   "cell_type": "code",
   "execution_count": null,
   "metadata": {
    "execution": {
     "iopub.execute_input": "2023-10-29T14:25:30.588855Z",
     "iopub.status.busy": "2023-10-29T14:25:30.588389Z",
     "iopub.status.idle": "2023-10-29T14:27:26.261114Z",
     "shell.execute_reply": "2023-10-29T14:27:26.259969Z",
     "shell.execute_reply.started": "2023-10-29T14:25:30.588828Z"
    },
    "trusted": true
   },
   "outputs": [],
   "source": [
    "rfr_cv.fit(X_train, y_train)"
   ]
  },
  {
   "cell_type": "code",
   "execution_count": null,
   "metadata": {
    "execution": {
     "iopub.execute_input": "2023-10-29T14:27:26.262952Z",
     "iopub.status.busy": "2023-10-29T14:27:26.262587Z",
     "iopub.status.idle": "2023-10-29T14:27:26.270989Z",
     "shell.execute_reply": "2023-10-29T14:27:26.270055Z",
     "shell.execute_reply.started": "2023-10-29T14:27:26.262921Z"
    },
    "trusted": true
   },
   "outputs": [],
   "source": [
    "np.sqrt(-1 * rfr_cv.best_score_)"
   ]
  },
  {
   "cell_type": "code",
   "execution_count": null,
   "metadata": {
    "execution": {
     "iopub.execute_input": "2023-10-29T14:27:26.273538Z",
     "iopub.status.busy": "2023-10-29T14:27:26.273262Z",
     "iopub.status.idle": "2023-10-29T14:27:26.286823Z",
     "shell.execute_reply": "2023-10-29T14:27:26.285862Z",
     "shell.execute_reply.started": "2023-10-29T14:27:26.273515Z"
    },
    "trusted": true
   },
   "outputs": [],
   "source": [
    "rfr_cv.best_params_"
   ]
  },
  {
   "cell_type": "code",
   "execution_count": null,
   "metadata": {
    "execution": {
     "iopub.execute_input": "2023-10-29T14:27:26.288873Z",
     "iopub.status.busy": "2023-10-29T14:27:26.288038Z",
     "iopub.status.idle": "2023-10-29T14:27:26.299565Z",
     "shell.execute_reply": "2023-10-29T14:27:26.298395Z",
     "shell.execute_reply.started": "2023-10-29T14:27:26.288845Z"
    },
    "trusted": true
   },
   "outputs": [],
   "source": [
    "XGB = XGBRegressor(random_state=13)"
   ]
  },
  {
   "cell_type": "code",
   "execution_count": null,
   "metadata": {
    "execution": {
     "iopub.execute_input": "2023-10-29T14:27:26.301674Z",
     "iopub.status.busy": "2023-10-29T14:27:26.301162Z",
     "iopub.status.idle": "2023-10-29T14:27:26.313303Z",
     "shell.execute_reply": "2023-10-29T14:27:26.312018Z",
     "shell.execute_reply.started": "2023-10-29T14:27:26.301638Z"
    },
    "trusted": true
   },
   "outputs": [],
   "source": [
    "param_grid_XGB = {\n",
    "    \"learning_rate\": [0.05, 0.1, 0.2],\n",
    "    \"n_estimators\": [300],\n",
    "    \"max_depth\": [3],\n",
    "    \"min_child_weight\": [1, 2, 3],\n",
    "    \"gamma\": [0, 0.1, 0.2],\n",
    "    \"subsample\": [0.8, 0.9, 1.0],\n",
    "    \"colsample_bytree\": [0.8, 0.9, 1.0],\n",
    "}"
   ]
  },
  {
   "cell_type": "code",
   "execution_count": null,
   "metadata": {
    "execution": {
     "iopub.execute_input": "2023-10-29T14:27:26.315428Z",
     "iopub.status.busy": "2023-10-29T14:27:26.314898Z",
     "iopub.status.idle": "2023-10-29T14:27:26.325821Z",
     "shell.execute_reply": "2023-10-29T14:27:26.324366Z",
     "shell.execute_reply.started": "2023-10-29T14:27:26.3154Z"
    },
    "trusted": true
   },
   "outputs": [],
   "source": [
    "xgb_cv = GridSearchCV(\n",
    "    XGB, param_grid_XGB, cv=3, scoring=\"neg_mean_squared_error\", n_jobs=-1\n",
    ")"
   ]
  },
  {
   "cell_type": "code",
   "execution_count": null,
   "metadata": {
    "execution": {
     "iopub.execute_input": "2023-10-29T14:27:26.328776Z",
     "iopub.status.busy": "2023-10-29T14:27:26.327781Z",
     "iopub.status.idle": "2023-10-29T14:31:57.347356Z",
     "shell.execute_reply": "2023-10-29T14:31:57.345884Z",
     "shell.execute_reply.started": "2023-10-29T14:27:26.328747Z"
    },
    "trusted": true
   },
   "outputs": [],
   "source": [
    "xgb_cv.fit(X_train, y_train)"
   ]
  },
  {
   "cell_type": "code",
   "execution_count": null,
   "metadata": {
    "execution": {
     "iopub.execute_input": "2023-10-29T14:31:57.349279Z",
     "iopub.status.busy": "2023-10-29T14:31:57.348854Z",
     "iopub.status.idle": "2023-10-29T14:31:57.357706Z",
     "shell.execute_reply": "2023-10-29T14:31:57.356411Z",
     "shell.execute_reply.started": "2023-10-29T14:31:57.349246Z"
    },
    "trusted": true
   },
   "outputs": [],
   "source": [
    "np.sqrt(-1 * xgb_cv.best_score_)"
   ]
  },
  {
   "cell_type": "code",
   "execution_count": null,
   "metadata": {
    "execution": {
     "iopub.execute_input": "2023-10-29T14:31:57.360427Z",
     "iopub.status.busy": "2023-10-29T14:31:57.360011Z",
     "iopub.status.idle": "2023-10-29T14:31:57.370751Z",
     "shell.execute_reply": "2023-10-29T14:31:57.369426Z",
     "shell.execute_reply.started": "2023-10-29T14:31:57.360394Z"
    },
    "trusted": true
   },
   "outputs": [],
   "source": [
    "ridge = Ridge()"
   ]
  },
  {
   "cell_type": "code",
   "execution_count": null,
   "metadata": {
    "execution": {
     "iopub.execute_input": "2023-10-29T14:31:57.37272Z",
     "iopub.status.busy": "2023-10-29T14:31:57.372368Z",
     "iopub.status.idle": "2023-10-29T14:31:57.384327Z",
     "shell.execute_reply": "2023-10-29T14:31:57.382916Z",
     "shell.execute_reply.started": "2023-10-29T14:31:57.37269Z"
    },
    "trusted": true
   },
   "outputs": [],
   "source": [
    "param_grid_ridge = {\n",
    "    \"alpha\": [0.05, 0.1, 1, 3, 5, 10],\n",
    "    \"solver\": [\"auto\", \"svd\", \"cholesky\", \"lsqr\", \"sparse_cg\", \"sag\"],\n",
    "}"
   ]
  },
  {
   "cell_type": "code",
   "execution_count": null,
   "metadata": {
    "execution": {
     "iopub.execute_input": "2023-10-29T14:31:57.386587Z",
     "iopub.status.busy": "2023-10-29T14:31:57.386169Z",
     "iopub.status.idle": "2023-10-29T14:31:57.397387Z",
     "shell.execute_reply": "2023-10-29T14:31:57.396191Z",
     "shell.execute_reply.started": "2023-10-29T14:31:57.386558Z"
    },
    "trusted": true
   },
   "outputs": [],
   "source": [
    "ridge_cv = GridSearchCV(\n",
    "    ridge, param_grid_ridge, cv=5, scoring=\"neg_mean_squared_error\", n_jobs=-1\n",
    ")"
   ]
  },
  {
   "cell_type": "code",
   "execution_count": null,
   "metadata": {
    "execution": {
     "iopub.execute_input": "2023-10-29T14:31:57.398879Z",
     "iopub.status.busy": "2023-10-29T14:31:57.398593Z",
     "iopub.status.idle": "2023-10-29T14:32:20.018562Z",
     "shell.execute_reply": "2023-10-29T14:32:20.0175Z",
     "shell.execute_reply.started": "2023-10-29T14:31:57.398855Z"
    },
    "trusted": true
   },
   "outputs": [],
   "source": [
    "ridge_cv.fit(X_train, y_train)"
   ]
  },
  {
   "cell_type": "code",
   "execution_count": null,
   "metadata": {
    "execution": {
     "iopub.execute_input": "2023-10-29T14:32:20.022469Z",
     "iopub.status.busy": "2023-10-29T14:32:20.02187Z",
     "iopub.status.idle": "2023-10-29T14:32:20.031437Z",
     "shell.execute_reply": "2023-10-29T14:32:20.030645Z",
     "shell.execute_reply.started": "2023-10-29T14:32:20.022438Z"
    },
    "trusted": true
   },
   "outputs": [],
   "source": [
    "np.sqrt(-1 * ridge_cv.best_score_)"
   ]
  },
  {
   "cell_type": "code",
   "execution_count": null,
   "metadata": {
    "execution": {
     "iopub.execute_input": "2023-10-29T14:32:20.033135Z",
     "iopub.status.busy": "2023-10-29T14:32:20.032655Z",
     "iopub.status.idle": "2023-10-29T14:32:20.039904Z",
     "shell.execute_reply": "2023-10-29T14:32:20.038997Z",
     "shell.execute_reply.started": "2023-10-29T14:32:20.033106Z"
    },
    "trusted": true
   },
   "outputs": [],
   "source": [
    "GBR = GradientBoostingRegressor()"
   ]
  },
  {
   "cell_type": "code",
   "execution_count": null,
   "metadata": {
    "execution": {
     "iopub.execute_input": "2023-10-29T14:32:20.041984Z",
     "iopub.status.busy": "2023-10-29T14:32:20.041527Z",
     "iopub.status.idle": "2023-10-29T14:32:20.054774Z",
     "shell.execute_reply": "2023-10-29T14:32:20.053586Z",
     "shell.execute_reply.started": "2023-10-29T14:32:20.041957Z"
    },
    "trusted": true
   },
   "outputs": [],
   "source": [
    "param_grid_GBR = {\n",
    "    \"max_depth\": [12, 15, 20],\n",
    "    \"n_estimators\": [200, 300, 1000],\n",
    "    \"min_samples_leaf\": [10, 25, 50],\n",
    "    \"learning_rate\": [0.001, 0.01, 0.1],\n",
    "    \"max_features\": [0.01, 0.1, 0.7],\n",
    "}"
   ]
  },
  {
   "cell_type": "code",
   "execution_count": null,
   "metadata": {
    "execution": {
     "iopub.execute_input": "2023-10-29T14:32:20.056155Z",
     "iopub.status.busy": "2023-10-29T14:32:20.055877Z",
     "iopub.status.idle": "2023-10-29T14:32:20.068327Z",
     "shell.execute_reply": "2023-10-29T14:32:20.067107Z",
     "shell.execute_reply.started": "2023-10-29T14:32:20.056129Z"
    },
    "trusted": true
   },
   "outputs": [],
   "source": [
    "GBR_cv = GridSearchCV(\n",
    "    GBR, param_grid_GBR, cv=5, scoring=\"neg_mean_squared_error\", n_jobs=-1\n",
    ")"
   ]
  },
  {
   "cell_type": "code",
   "execution_count": null,
   "metadata": {
    "execution": {
     "iopub.execute_input": "2023-10-29T14:32:20.069971Z",
     "iopub.status.busy": "2023-10-29T14:32:20.0697Z",
     "iopub.status.idle": "2023-10-29T14:43:17.564626Z",
     "shell.execute_reply": "2023-10-29T14:43:17.563448Z",
     "shell.execute_reply.started": "2023-10-29T14:32:20.069947Z"
    },
    "trusted": true
   },
   "outputs": [],
   "source": [
    "GBR_cv.fit(X_train, y_train)"
   ]
  },
  {
   "cell_type": "code",
   "execution_count": null,
   "metadata": {
    "execution": {
     "iopub.execute_input": "2023-10-29T14:43:17.566353Z",
     "iopub.status.busy": "2023-10-29T14:43:17.566023Z",
     "iopub.status.idle": "2023-10-29T14:43:17.574106Z",
     "shell.execute_reply": "2023-10-29T14:43:17.573022Z",
     "shell.execute_reply.started": "2023-10-29T14:43:17.566327Z"
    },
    "trusted": true
   },
   "outputs": [],
   "source": [
    "np.sqrt(-1 * GBR_cv.best_score_)"
   ]
  },
  {
   "cell_type": "code",
   "execution_count": null,
   "metadata": {
    "execution": {
     "iopub.execute_input": "2023-10-29T14:43:17.575526Z",
     "iopub.status.busy": "2023-10-29T14:43:17.575247Z",
     "iopub.status.idle": "2023-10-29T14:43:17.586847Z",
     "shell.execute_reply": "2023-10-29T14:43:17.585228Z",
     "shell.execute_reply.started": "2023-10-29T14:43:17.575502Z"
    },
    "trusted": true
   },
   "outputs": [],
   "source": [
    "lgbm_regressor = lgb.LGBMRegressor()"
   ]
  },
  {
   "cell_type": "code",
   "execution_count": null,
   "metadata": {
    "execution": {
     "iopub.execute_input": "2023-10-29T14:43:17.590429Z",
     "iopub.status.busy": "2023-10-29T14:43:17.590114Z",
     "iopub.status.idle": "2023-10-29T14:43:17.599447Z",
     "shell.execute_reply": "2023-10-29T14:43:17.597921Z",
     "shell.execute_reply.started": "2023-10-29T14:43:17.590404Z"
    },
    "trusted": true
   },
   "outputs": [],
   "source": [
    "param_grid_lgbm = {\n",
    "    \"boosting_type\": [\"gbdt\", \"dart\"],\n",
    "    \"num_leaves\": [20, 30, 40],\n",
    "    \"learning_rate\": [0.01, 0.05, 0.1],\n",
    "    \"n_estimators\": [100, 200, 300],\n",
    "}"
   ]
  },
  {
   "cell_type": "code",
   "execution_count": null,
   "metadata": {
    "execution": {
     "iopub.execute_input": "2023-10-29T14:43:17.60113Z",
     "iopub.status.busy": "2023-10-29T14:43:17.600821Z",
     "iopub.status.idle": "2023-10-29T14:43:17.613378Z",
     "shell.execute_reply": "2023-10-29T14:43:17.612121Z",
     "shell.execute_reply.started": "2023-10-29T14:43:17.6011Z"
    },
    "trusted": true
   },
   "outputs": [],
   "source": [
    "lgbm_cv = GridSearchCV(\n",
    "    lgbm_regressor, param_grid_lgbm, cv=3, scoring=\"neg_mean_squared_error\", n_jobs=-1\n",
    ")"
   ]
  },
  {
   "cell_type": "code",
   "execution_count": null,
   "metadata": {
    "execution": {
     "iopub.execute_input": "2023-10-29T14:43:17.615832Z",
     "iopub.status.busy": "2023-10-29T14:43:17.615203Z",
     "iopub.status.idle": "2023-10-29T14:44:04.34486Z",
     "shell.execute_reply": "2023-10-29T14:44:04.343774Z",
     "shell.execute_reply.started": "2023-10-29T14:43:17.615792Z"
    },
    "trusted": true
   },
   "outputs": [],
   "source": [
    "lgbm_cv.fit(X_train, y_train)"
   ]
  },
  {
   "cell_type": "code",
   "execution_count": null,
   "metadata": {
    "execution": {
     "iopub.execute_input": "2023-10-29T14:44:04.34667Z",
     "iopub.status.busy": "2023-10-29T14:44:04.346439Z",
     "iopub.status.idle": "2023-10-29T14:44:04.353608Z",
     "shell.execute_reply": "2023-10-29T14:44:04.35239Z",
     "shell.execute_reply.started": "2023-10-29T14:44:04.346648Z"
    },
    "trusted": true
   },
   "outputs": [],
   "source": [
    "np.sqrt(-1 * lgbm_cv.best_score_)"
   ]
  },
  {
   "cell_type": "code",
   "execution_count": null,
   "metadata": {
    "execution": {
     "iopub.execute_input": "2023-10-29T14:44:04.356188Z",
     "iopub.status.busy": "2023-10-29T14:44:04.355797Z",
     "iopub.status.idle": "2023-10-29T14:44:04.370617Z",
     "shell.execute_reply": "2023-10-29T14:44:04.368988Z",
     "shell.execute_reply.started": "2023-10-29T14:44:04.356156Z"
    },
    "trusted": true
   },
   "outputs": [],
   "source": [
    "catboost = CatBoostRegressor(loss_function=\"RMSE\", verbose=False)"
   ]
  },
  {
   "cell_type": "code",
   "execution_count": null,
   "metadata": {
    "execution": {
     "iopub.execute_input": "2023-10-29T14:44:04.372582Z",
     "iopub.status.busy": "2023-10-29T14:44:04.372197Z",
     "iopub.status.idle": "2023-10-29T14:44:04.382975Z",
     "shell.execute_reply": "2023-10-29T14:44:04.381903Z",
     "shell.execute_reply.started": "2023-10-29T14:44:04.37254Z"
    },
    "trusted": true
   },
   "outputs": [],
   "source": [
    "param_grid_cat = {\n",
    "    \"iterations\": [100, 500, 1000],\n",
    "    \"depth\": [4, 6, 8, 10],\n",
    "    \"learning_rate\": [0.01, 0.05, 0.1, 0.5],\n",
    "}"
   ]
  },
  {
   "cell_type": "code",
   "execution_count": null,
   "metadata": {
    "execution": {
     "iopub.execute_input": "2023-10-29T14:44:04.384847Z",
     "iopub.status.busy": "2023-10-29T14:44:04.384467Z",
     "iopub.status.idle": "2023-10-29T14:44:04.395189Z",
     "shell.execute_reply": "2023-10-29T14:44:04.394284Z",
     "shell.execute_reply.started": "2023-10-29T14:44:04.384816Z"
    },
    "trusted": true
   },
   "outputs": [],
   "source": [
    "cat_cv = GridSearchCV(\n",
    "    catboost, param_grid_cat, cv=3, scoring=\"neg_mean_squared_error\", n_jobs=-1\n",
    ")"
   ]
  },
  {
   "cell_type": "code",
   "execution_count": null,
   "metadata": {
    "execution": {
     "iopub.execute_input": "2023-10-29T14:44:04.39666Z",
     "iopub.status.busy": "2023-10-29T14:44:04.396314Z",
     "iopub.status.idle": "2023-10-29T14:50:09.910258Z",
     "shell.execute_reply": "2023-10-29T14:50:09.9085Z",
     "shell.execute_reply.started": "2023-10-29T14:44:04.396627Z"
    },
    "trusted": true
   },
   "outputs": [],
   "source": [
    "cat_cv.fit(X_train, y_train)"
   ]
  },
  {
   "cell_type": "code",
   "execution_count": null,
   "metadata": {
    "execution": {
     "iopub.execute_input": "2023-10-29T14:50:09.912102Z",
     "iopub.status.busy": "2023-10-29T14:50:09.911762Z",
     "iopub.status.idle": "2023-10-29T14:50:09.920445Z",
     "shell.execute_reply": "2023-10-29T14:50:09.919315Z",
     "shell.execute_reply.started": "2023-10-29T14:50:09.912056Z"
    },
    "trusted": true
   },
   "outputs": [],
   "source": [
    "np.sqrt(-1 * cat_cv.best_score_)"
   ]
  },
  {
   "cell_type": "code",
   "execution_count": null,
   "metadata": {
    "execution": {
     "iopub.execute_input": "2023-10-29T14:50:09.921925Z",
     "iopub.status.busy": "2023-10-29T14:50:09.921668Z",
     "iopub.status.idle": "2023-10-29T14:50:09.931311Z",
     "shell.execute_reply": "2023-10-29T14:50:09.930271Z",
     "shell.execute_reply.started": "2023-10-29T14:50:09.921902Z"
    },
    "trusted": true
   },
   "outputs": [],
   "source": [
    "vr = VotingRegressor(\n",
    "    [\n",
    "        (\"gbr\", GBR_cv.best_estimator_),\n",
    "        (\"xgb\", xgb_cv.best_estimator_),\n",
    "\n",
    "        (\"ridge\", ridge_cv.best_estimator_),\n",
    "    ],\n",
    "    weights=[2, 3, 1],\n",
    ")"
   ]
  },
  {
   "cell_type": "code",
   "execution_count": null,
   "metadata": {
    "execution": {
     "iopub.execute_input": "2023-10-29T14:50:09.932829Z",
     "iopub.status.busy": "2023-10-29T14:50:09.932546Z",
     "iopub.status.idle": "2023-10-29T14:50:14.289263Z",
     "shell.execute_reply": "2023-10-29T14:50:14.288137Z",
     "shell.execute_reply.started": "2023-10-29T14:50:09.932806Z"
    },
    "trusted": true
   },
   "outputs": [],
   "source": [
    "vr.fit(X_train, y_train)"
   ]
  },
  {
   "cell_type": "code",
   "execution_count": null,
   "metadata": {
    "execution": {
     "iopub.execute_input": "2023-10-29T14:50:14.290977Z",
     "iopub.status.busy": "2023-10-29T14:50:14.290644Z",
     "iopub.status.idle": "2023-10-29T14:50:14.324237Z",
     "shell.execute_reply": "2023-10-29T14:50:14.323138Z",
     "shell.execute_reply.started": "2023-10-29T14:50:14.29095Z"
    },
    "trusted": true
   },
   "outputs": [],
   "source": [
    "y_pred_vr = vr.predict(X_test)"
   ]
  },
  {
   "cell_type": "code",
   "execution_count": null,
   "metadata": {
    "execution": {
     "iopub.execute_input": "2023-10-29T14:50:14.326351Z",
     "iopub.status.busy": "2023-10-29T14:50:14.325983Z",
     "iopub.status.idle": "2023-10-29T14:50:14.339381Z",
     "shell.execute_reply": "2023-10-29T14:50:14.337621Z",
     "shell.execute_reply.started": "2023-10-29T14:50:14.326321Z"
    },
    "trusted": true
   },
   "outputs": [],
   "source": [
    "mean_squared_error(y_test, y_pred_vr, squared=False)"
   ]
  },
  {
   "cell_type": "code",
   "execution_count": null,
   "metadata": {
    "execution": {
     "iopub.execute_input": "2023-10-29T14:50:14.340864Z",
     "iopub.status.busy": "2023-10-29T14:50:14.340584Z",
     "iopub.status.idle": "2023-10-29T14:50:14.350219Z",
     "shell.execute_reply": "2023-10-29T14:50:14.349286Z",
     "shell.execute_reply.started": "2023-10-29T14:50:14.34084Z"
    },
    "trusted": true
   },
   "outputs": [],
   "source": [
    "estimators = [\n",
    "    (\"gbr\", GBR_cv.best_estimator_),\n",
    "    (\"xgb\", xgb_cv.best_estimator_),\n",
    "    (\"cat\", cat_cv.best_estimator_),\n",
    "    (\"lgb\", lgbm_cv.best_estimator_),\n",
    "    (\"rfr\", rfr_cv.best_estimator_),\n",
    "]"
   ]
  },
  {
   "cell_type": "code",
   "execution_count": null,
   "metadata": {
    "execution": {
     "iopub.execute_input": "2023-10-29T14:50:14.351816Z",
     "iopub.status.busy": "2023-10-29T14:50:14.351554Z",
     "iopub.status.idle": "2023-10-29T14:50:14.361815Z",
     "shell.execute_reply": "2023-10-29T14:50:14.360853Z",
     "shell.execute_reply.started": "2023-10-29T14:50:14.351793Z"
    },
    "trusted": true
   },
   "outputs": [],
   "source": [
    "stackreg = StackingRegressor(estimators=estimators, final_estimator=vr)"
   ]
  },
  {
   "cell_type": "code",
   "execution_count": null,
   "metadata": {
    "execution": {
     "iopub.execute_input": "2023-10-29T14:50:14.363854Z",
     "iopub.status.busy": "2023-10-29T14:50:14.363165Z",
     "iopub.status.idle": "2023-10-29T14:51:25.699681Z",
     "shell.execute_reply": "2023-10-29T14:51:25.698129Z",
     "shell.execute_reply.started": "2023-10-29T14:50:14.363825Z"
    },
    "trusted": true
   },
   "outputs": [],
   "source": [
    "stackreg.fit(X_train, y_train)"
   ]
  },
  {
   "cell_type": "code",
   "execution_count": null,
   "metadata": {
    "execution": {
     "iopub.execute_input": "2023-10-29T14:51:25.701517Z",
     "iopub.status.busy": "2023-10-29T14:51:25.701192Z",
     "iopub.status.idle": "2023-10-29T14:51:25.810967Z",
     "shell.execute_reply": "2023-10-29T14:51:25.809977Z",
     "shell.execute_reply.started": "2023-10-29T14:51:25.701491Z"
    },
    "trusted": true
   },
   "outputs": [],
   "source": [
    "y_pred_stack = stackreg.predict(X_test)"
   ]
  },
  {
   "cell_type": "code",
   "execution_count": null,
   "metadata": {
    "execution": {
     "iopub.execute_input": "2023-10-29T14:51:25.812778Z",
     "iopub.status.busy": "2023-10-29T14:51:25.81243Z",
     "iopub.status.idle": "2023-10-29T14:51:25.82336Z",
     "shell.execute_reply": "2023-10-29T14:51:25.822272Z",
     "shell.execute_reply.started": "2023-10-29T14:51:25.812746Z"
    },
    "trusted": true
   },
   "outputs": [],
   "source": [
    "root_mean_squared_error(y_test, y_pred_stack, squared=False)"
   ]
  },
  {
   "cell_type": "code",
   "execution_count": null,
   "metadata": {
    "execution": {
     "iopub.execute_input": "2023-10-29T15:12:31.732343Z",
     "iopub.status.busy": "2023-10-29T15:12:31.732023Z",
     "iopub.status.idle": "2023-10-29T15:12:31.766359Z",
     "shell.execute_reply": "2023-10-29T15:12:31.765645Z",
     "shell.execute_reply.started": "2023-10-29T15:12:31.732319Z"
    },
    "trusted": true
   },
   "outputs": [],
   "source": [
    "df_test_preprocess = pipeline.transform(test_df)"
   ]
  },
  {
   "cell_type": "code",
   "execution_count": null,
   "metadata": {
    "execution": {
     "iopub.execute_input": "2023-10-29T15:29:51.994495Z",
     "iopub.status.busy": "2023-10-29T15:29:51.994127Z",
     "iopub.status.idle": "2023-10-29T15:29:52.399525Z",
     "shell.execute_reply": "2023-10-29T15:29:52.398446Z",
     "shell.execute_reply.started": "2023-10-29T15:29:51.994467Z"
    },
    "trusted": true
   },
   "outputs": [],
   "source": [
    "y_stacking = np.exp(stackreg.predict(df_test_preprocess))\n",
    "\n",
    "df_y_stacking_out = test_df[[\"Id\"]]\n",
    "df_y_stacking_out[\"SalePrice\"] = y_stacking\n",
    "\n",
    "df_y_stacking_out.to_csv(\"submission.csv\", index=False)"
   ]
  }
 ],
 "metadata": {
  "kaggle": {
   "accelerator": "none",
   "dataSources": [
    {
     "databundleVersionId": 868283,
     "sourceId": 5407,
     "sourceType": "competition"
    }
   ],
   "dockerImageVersionId": 30558,
   "isGpuEnabled": false,
   "isInternetEnabled": true,
   "language": "python",
   "sourceType": "notebook"
  },
  "kernelspec": {
   "display_name": "Python 3",
   "language": "python",
   "name": "python3"
  },
  "language_info": {
   "codemirror_mode": {
    "name": "ipython",
    "version": 3
   },
   "file_extension": ".py",
   "mimetype": "text/x-python",
   "name": "python",
   "nbconvert_exporter": "python",
   "pygments_lexer": "ipython3",
   "version": "3.6.4"
  }
 },
 "nbformat": 4,
 "nbformat_minor": 4
}
